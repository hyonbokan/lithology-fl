{
 "cells": [
  {
   "cell_type": "code",
   "execution_count": 1,
   "metadata": {},
   "outputs": [],
   "source": [
    "import pandas as pd\n",
    "import numpy as np\n",
    "import numpy.random as nr\n",
    "import xgboost as xgb\n",
    "import matplotlib.pyplot as plt\n",
    "from xgboost import XGBClassifier\n",
    "from sklearn.model_selection import StratifiedKFold\n",
    "from sklearn.metrics import accuracy_score, f1_score\n",
    "import pickle"
   ]
  },
  {
   "cell_type": "code",
   "execution_count": 2,
   "metadata": {},
   "outputs": [],
   "source": [
    "def process(data):\n",
    "\n",
    "    '''\n",
    "    function to process dataframe by replacing missing, infinity values with -999\n",
    "\n",
    "    args:: \n",
    "      data:  dataframe to be operated on\n",
    "    \n",
    "    returns dataframe with replaced values\n",
    "    '''\n",
    "    \n",
    "    cols = list(data.columns)\n",
    "    for _ in cols:\n",
    "\n",
    "        data[_] = np.where(data[_] == np.inf, -999, data[_])\n",
    "        data[_] = np.where(data[_] == np.nan, -999, data[_])\n",
    "        data[_] = np.where(data[_] == -np.inf, -999, data[_])\n",
    "        \n",
    "    return data"
   ]
  },
  {
   "cell_type": "code",
   "execution_count": 3,
   "metadata": {},
   "outputs": [],
   "source": [
    "def fill_missing_values(df):\n",
    "    cols = list(df.columns)\n",
    "    for _ in cols:\n",
    "\n",
    "        df[_] = np.where(df[_] == np.inf, -999, df[_])\n",
    "        df[_] = np.where(df[_] == np.nan, -999, df[_])\n",
    "        df[_] = np.where(df[_] == -np.inf, -999, df[_])\n",
    "        \n",
    "    return df"
   ]
  },
  {
   "cell_type": "code",
   "execution_count": 4,
   "metadata": {},
   "outputs": [],
   "source": [
    "PWD = '/media/Data-B/my_research/Geoscience_FL/data_well_log/'\n",
    "\n",
    "A = np.load('penalty_matrix.npy')\n",
    "train = pd.read_csv(PWD + 'train.csv', sep=';')\n",
    "test = pd.read_csv(PWD + 'test_with_lables.csv')"
   ]
  },
  {
   "attachments": {},
   "cell_type": "markdown",
   "metadata": {},
   "source": [
    "The augment_features_window function is used to concatenate feature windows in a given dataset. It takes two inputs: X, which is the input feature matrix, and N_neig, representing the number of neighboring windows to consider on each side of the current window. The function performs the following steps:"
   ]
  },
  {
   "cell_type": "code",
   "execution_count": 5,
   "metadata": {},
   "outputs": [],
   "source": [
    "#Paulo Bestagini's feature augmentation technique from SEG 2016 ML competition\n",
    "#Link : https://github.com/seg/2016-ml-contest/tree/master/ispl\n",
    "\n",
    "\n",
    "# Feature windows concatenation function\n",
    "def augment_features_window(X, N_neig):\n",
    "    \n",
    "    # Parameters\n",
    "    N_row = X.shape[0]\n",
    "    N_feat = X.shape[1]\n",
    " \n",
    "    # Zero padding\n",
    "    X = np.vstack((np.zeros((N_neig, N_feat)), X, (np.zeros((N_neig, N_feat)))))\n",
    " \n",
    "    # Loop over windows\n",
    "    X_aug = np.zeros((N_row, N_feat*(2*N_neig+1)))\n",
    "    for r in np.arange(N_row)+N_neig:\n",
    "        this_row = []\n",
    "        for c in np.arange(-N_neig,N_neig+1):\n",
    "            this_row = np.hstack((this_row, X[r+c]))\n",
    "        X_aug[r-N_neig] = this_row\n",
    " \n",
    "    return X_aug\n",
    " \n",
    "# Feature gradient computation function\n",
    "def augment_features_gradient(X, depth):\n",
    "    \n",
    "    # Compute features gradient\n",
    "    d_diff = np.diff(depth).reshape((-1, 1))\n",
    "    d_diff[d_diff==0] = 0.001\n",
    "    X_diff = np.diff(X, axis=0)\n",
    "    X_grad = X_diff / d_diff\n",
    "        \n",
    "    # Compensate for last missing value\n",
    "    X_grad = np.concatenate((X_grad, np.zeros((1, X_grad.shape[1]))))\n",
    "    \n",
    "    return X_grad\n",
    " \n",
    "# Feature augmentation function\n",
    "def augment_features(X, well, depth, N_neig=1):\n",
    "    \n",
    "    # Augment features\n",
    "    X_aug = np.zeros((X.shape[0], X.shape[1]*(N_neig*2+2)))\n",
    "    for w in np.unique(well):\n",
    "        w_idx = np.where(well == w)[0]\n",
    "        X_aug_win = augment_features_window(X[w_idx, :], N_neig)\n",
    "        X_aug_grad = augment_features_gradient(X[w_idx, :], depth[w_idx])\n",
    "        X_aug[w_idx, :] = np.concatenate((X_aug_win, X_aug_grad), axis=1)\n",
    "    \n",
    "    # Find padded rows\n",
    "    padded_rows = np.unique(np.where(X_aug[:, 0:7] == np.zeros((1, 7)))[0])\n",
    "    \n",
    "    return X_aug, padded_rows\n",
    "\n",
    "def score(y_true, y_pred):\n",
    "\n",
    "    '''\n",
    "    custom metric used for evaluation\n",
    "    args:\n",
    "      y_true: actual prediction\n",
    "      y_pred: predictions made\n",
    "    '''\n",
    "\n",
    "    S = 0.0\n",
    "    y_true = y_true.astype(int)\n",
    "    y_pred = y_pred.astype(int)\n",
    "    for i in range(0, y_true.shape[0]):\n",
    "        S -= A[y_true[i], y_pred[i]]\n",
    "    return S/y_true.shape[0]"
   ]
  },
  {
   "cell_type": "code",
   "execution_count": 6,
   "metadata": {},
   "outputs": [],
   "source": [
    "def show_evaluation(pred, true):\n",
    "\n",
    "  '''\n",
    "\n",
    "  function to show model performance and evaluation\n",
    "  args:\n",
    "    pred: predicted value(a list)\n",
    "    true: actual values (a list)\n",
    "\n",
    "  prints the custom metric performance, accuracy and F1 score of predictions\n",
    "\n",
    "  '''\n",
    "\n",
    "  print(f'Default score: {score(true.values, pred)}')\n",
    "  print(f'Accuracy is: {accuracy_score(true, pred)}')\n",
    "  print(f'F1 is: {f1_score(pred, true.values, average=\"weighted\")}')"
   ]
  },
  {
   "cell_type": "code",
   "execution_count": 7,
   "metadata": {},
   "outputs": [],
   "source": [
    "lithology = train['FORCE_2020_LITHOFACIES_LITHOLOGY']\n",
    "\n",
    "lithology_numbers = {30000: 0,\n",
    "                        65030: 1,\n",
    "                        65000: 2,\n",
    "                        80000: 3,\n",
    "                        74000: 4,\n",
    "                        70000: 5,\n",
    "                        70032: 6,\n",
    "                        88000: 7,\n",
    "                        86000: 8,\n",
    "                        99000: 9,\n",
    "                        90000: 10,\n",
    "                        93000: 11}\n",
    "\n",
    "labels = lithology.map(lithology_numbers)"
   ]
  },
  {
   "cell_type": "code",
   "execution_count": 8,
   "metadata": {},
   "outputs": [],
   "source": [
    "def preprocess(df):\n",
    "    df_well = df.WELL.values\n",
    "    df_depth = df.DEPTH_MD.values\n",
    "\n",
    "    print(f\"Shape of concatenated dataframe before dropping columns: {df.shape}\")\n",
    "\n",
    "    cols_to_drop = ['SGR', 'DTS', 'RXO', 'ROPA', 'FORCE_2020_LITHOFACIES_LITHOLOGY', 'FORCE_2020_LITHOFACIES_CONFIDENCE']\n",
    "    df = df.drop(columns=cols_to_drop, errors='ignore')\n",
    "\n",
    "    print(f\"Shape of dataframe after dropping columns: {df.shape}\")\n",
    "    \n",
    "    # Label encoding the GROUP, FORMATION, and WELLS features\n",
    "    df['GROUP_encoded'] = df['GROUP'].astype('category').cat.codes\n",
    "    df['FORMATION_encoded'] = df['FORMATION'].astype('category').cat.codes\n",
    "    df['WELL_encoded'] = df['WELL'].astype('category').cat.codes\n",
    "    print(f\"Shape of dataframe after label encoding columns: {df.shape}\")\n",
    "\n",
    "    # Further preparation to split dataframe into train and test datasets after preparation\n",
    "    df = df.drop(['WELL', 'GROUP', 'FORMATION'], axis=1)\n",
    "\n",
    "    df = df.fillna(-999)\n",
    "    df = process(df)\n",
    "\n",
    "    print(f\"Dataframe columns: {df.columns}\")\n",
    "    print(f\"Shape of the dataset BEFORE augmentation: {df.shape}\")\n",
    "\n",
    "    augmented_df, _ = augment_features(pd.DataFrame(df).values, df_well, df_depth)\n",
    "\n",
    "    print(f\"Shape of the dataset AFTER augmentation: {augmented_df.shape}\")\n",
    "\n",
    "    return augmented_df\n"
   ]
  },
  {
   "cell_type": "code",
   "execution_count": 9,
   "metadata": {},
   "outputs": [
    {
     "name": "stdout",
     "output_type": "stream",
     "text": [
      "Shape of concatenated dataframe before dropping columns: (1170511, 29)\n",
      "Shape of dataframe after dropping columns: (1170511, 23)\n",
      "Shape of dataframe after label encoding columns: (1170511, 26)\n",
      "Dataframe columns: Index(['DEPTH_MD', 'X_LOC', 'Y_LOC', 'Z_LOC', 'CALI', 'RSHA', 'RMED', 'RDEP',\n",
      "       'RHOB', 'GR', 'NPHI', 'PEF', 'DTC', 'SP', 'BS', 'ROP', 'DCAL', 'DRHO',\n",
      "       'MUDWEIGHT', 'RMIC', 'GROUP_encoded', 'FORMATION_encoded',\n",
      "       'WELL_encoded'],\n",
      "      dtype='object')\n",
      "Shape of the dataset BEFORE augmentation: (1170511, 23)\n",
      "Shape of the dataset AFTER augmentation: (1170511, 92)\n",
      "Shape of concatenated dataframe before dropping columns: (136786, 28)\n",
      "Shape of dataframe after dropping columns: (136786, 23)\n",
      "Shape of dataframe after label encoding columns: (136786, 26)\n",
      "Dataframe columns: Index(['DEPTH_MD', 'X_LOC', 'Y_LOC', 'Z_LOC', 'CALI', 'RSHA', 'RMED', 'RDEP',\n",
      "       'RHOB', 'GR', 'NPHI', 'PEF', 'DTC', 'SP', 'BS', 'ROP', 'DCAL', 'DRHO',\n",
      "       'MUDWEIGHT', 'RMIC', 'GROUP_encoded', 'FORMATION_encoded',\n",
      "       'WELL_encoded'],\n",
      "      dtype='object')\n",
      "Shape of the dataset BEFORE augmentation: (136786, 23)\n",
      "Shape of the dataset AFTER augmentation: (136786, 92)\n"
     ]
    }
   ],
   "source": [
    "trainset = preprocess(train)\n",
    "testset = preprocess(test)"
   ]
  },
  {
   "cell_type": "code",
   "execution_count": 10,
   "metadata": {},
   "outputs": [
    {
     "name": "stderr",
     "output_type": "stream",
     "text": [
      "/home/dnlab/anaconda3/lib/python3.9/site-packages/xgboost/sklearn.py:835: UserWarning: `early_stopping_rounds` in `fit` method is deprecated for better compatibility with scikit-learn, use `early_stopping_rounds` in constructor or`set_params` instead.\n",
      "  warnings.warn(\n"
     ]
    },
    {
     "name": "stdout",
     "output_type": "stream",
     "text": [
      "[22:30:40] WARNING: ../src/learner.cc:767: \n",
      "Parameters: { \"verbose\" } are not used.\n",
      "\n",
      "[0]\tvalidation_0-mlogloss:2.16254\n",
      "[99]\tvalidation_0-mlogloss:0.31965\n",
      "Default score: [-0.28041704]\n",
      "Accuracy is: 0.893372176468578\n",
      "F1 is: 0.8974162848842603\n",
      "None\n",
      "-----------------------FOLD 1---------------------\n"
     ]
    },
    {
     "name": "stderr",
     "output_type": "stream",
     "text": [
      "/home/dnlab/anaconda3/lib/python3.9/site-packages/xgboost/sklearn.py:835: UserWarning: `early_stopping_rounds` in `fit` method is deprecated for better compatibility with scikit-learn, use `early_stopping_rounds` in constructor or`set_params` instead.\n",
      "  warnings.warn(\n"
     ]
    },
    {
     "name": "stdout",
     "output_type": "stream",
     "text": [
      "[22:31:09] WARNING: ../src/learner.cc:767: \n",
      "Parameters: { \"verbose\" } are not used.\n",
      "\n",
      "[0]\tvalidation_0-mlogloss:2.16177\n",
      "[99]\tvalidation_0-mlogloss:0.31863\n",
      "Default score: [-0.27858369]\n",
      "Accuracy is: 0.8942170506873073\n",
      "F1 is: 0.8981510158614257\n",
      "None\n",
      "-----------------------FOLD 2---------------------\n"
     ]
    },
    {
     "name": "stderr",
     "output_type": "stream",
     "text": [
      "/home/dnlab/anaconda3/lib/python3.9/site-packages/xgboost/sklearn.py:835: UserWarning: `early_stopping_rounds` in `fit` method is deprecated for better compatibility with scikit-learn, use `early_stopping_rounds` in constructor or`set_params` instead.\n",
      "  warnings.warn(\n"
     ]
    },
    {
     "name": "stdout",
     "output_type": "stream",
     "text": [
      "[22:31:37] WARNING: ../src/learner.cc:767: \n",
      "Parameters: { \"verbose\" } are not used.\n",
      "\n",
      "[0]\tvalidation_0-mlogloss:2.16169\n",
      "[99]\tvalidation_0-mlogloss:0.31907\n",
      "Default score: [-0.27865311]\n",
      "Accuracy is: 0.893772799890646\n",
      "F1 is: 0.8977033320433632\n",
      "None\n",
      "-----------------------FOLD 3---------------------\n"
     ]
    },
    {
     "name": "stderr",
     "output_type": "stream",
     "text": [
      "/home/dnlab/anaconda3/lib/python3.9/site-packages/xgboost/sklearn.py:835: UserWarning: `early_stopping_rounds` in `fit` method is deprecated for better compatibility with scikit-learn, use `early_stopping_rounds` in constructor or`set_params` instead.\n",
      "  warnings.warn(\n"
     ]
    },
    {
     "name": "stdout",
     "output_type": "stream",
     "text": [
      "[22:32:06] WARNING: ../src/learner.cc:767: \n",
      "Parameters: { \"verbose\" } are not used.\n",
      "\n",
      "[0]\tvalidation_0-mlogloss:2.16228\n",
      "[99]\tvalidation_0-mlogloss:0.31954\n",
      "Default score: [-0.27798566]\n",
      "Accuracy is: 0.8948065373213385\n",
      "F1 is: 0.8987287651432873\n",
      "None\n",
      "-----------------------FOLD 4---------------------\n"
     ]
    },
    {
     "name": "stderr",
     "output_type": "stream",
     "text": [
      "/home/dnlab/anaconda3/lib/python3.9/site-packages/xgboost/sklearn.py:835: UserWarning: `early_stopping_rounds` in `fit` method is deprecated for better compatibility with scikit-learn, use `early_stopping_rounds` in constructor or`set_params` instead.\n",
      "  warnings.warn(\n"
     ]
    },
    {
     "name": "stdout",
     "output_type": "stream",
     "text": [
      "[22:32:34] WARNING: ../src/learner.cc:767: \n",
      "Parameters: { \"verbose\" } are not used.\n",
      "\n",
      "[0]\tvalidation_0-mlogloss:2.16246\n",
      "[99]\tvalidation_0-mlogloss:0.31765\n",
      "Default score: [-0.27682057]\n",
      "Accuracy is: 0.8950201194351181\n",
      "F1 is: 0.8990015319089684\n",
      "None\n",
      "-----------------------FOLD 5---------------------\n"
     ]
    },
    {
     "name": "stderr",
     "output_type": "stream",
     "text": [
      "/home/dnlab/anaconda3/lib/python3.9/site-packages/xgboost/sklearn.py:835: UserWarning: `early_stopping_rounds` in `fit` method is deprecated for better compatibility with scikit-learn, use `early_stopping_rounds` in constructor or`set_params` instead.\n",
      "  warnings.warn(\n"
     ]
    },
    {
     "name": "stdout",
     "output_type": "stream",
     "text": [
      "[22:33:03] WARNING: ../src/learner.cc:767: \n",
      "Parameters: { \"verbose\" } are not used.\n",
      "\n",
      "[0]\tvalidation_0-mlogloss:2.16211\n",
      "[99]\tvalidation_0-mlogloss:0.31541\n",
      "Default score: [-0.27397673]\n",
      "Accuracy is: 0.8961136598576689\n",
      "F1 is: 0.8999885823612314\n",
      "None\n",
      "-----------------------FOLD 6---------------------\n"
     ]
    },
    {
     "name": "stderr",
     "output_type": "stream",
     "text": [
      "/home/dnlab/anaconda3/lib/python3.9/site-packages/xgboost/sklearn.py:835: UserWarning: `early_stopping_rounds` in `fit` method is deprecated for better compatibility with scikit-learn, use `early_stopping_rounds` in constructor or`set_params` instead.\n",
      "  warnings.warn(\n"
     ]
    },
    {
     "name": "stdout",
     "output_type": "stream",
     "text": [
      "[22:33:31] WARNING: ../src/learner.cc:767: \n",
      "Parameters: { \"verbose\" } are not used.\n",
      "\n",
      "[0]\tvalidation_0-mlogloss:2.16140\n",
      "[99]\tvalidation_0-mlogloss:0.31353\n",
      "Default score: [-0.27064378]\n",
      "Accuracy is: 0.8968142091908655\n",
      "F1 is: 0.9005204468154385\n",
      "None\n",
      "-----------------------FOLD 7---------------------\n"
     ]
    },
    {
     "name": "stderr",
     "output_type": "stream",
     "text": [
      "/home/dnlab/anaconda3/lib/python3.9/site-packages/xgboost/sklearn.py:835: UserWarning: `early_stopping_rounds` in `fit` method is deprecated for better compatibility with scikit-learn, use `early_stopping_rounds` in constructor or`set_params` instead.\n",
      "  warnings.warn(\n"
     ]
    },
    {
     "name": "stdout",
     "output_type": "stream",
     "text": [
      "[22:34:00] WARNING: ../src/learner.cc:767: \n",
      "Parameters: { \"verbose\" } are not used.\n",
      "\n",
      "[0]\tvalidation_0-mlogloss:2.16266\n",
      "[99]\tvalidation_0-mlogloss:0.31663\n",
      "Default score: [-0.27716444]\n",
      "Accuracy is: 0.8946783880530709\n",
      "F1 is: 0.8985863932936216\n",
      "None\n",
      "-----------------------FOLD 8---------------------\n"
     ]
    },
    {
     "name": "stderr",
     "output_type": "stream",
     "text": [
      "/home/dnlab/anaconda3/lib/python3.9/site-packages/xgboost/sklearn.py:835: UserWarning: `early_stopping_rounds` in `fit` method is deprecated for better compatibility with scikit-learn, use `early_stopping_rounds` in constructor or`set_params` instead.\n",
      "  warnings.warn(\n"
     ]
    },
    {
     "name": "stdout",
     "output_type": "stream",
     "text": [
      "[22:34:28] WARNING: ../src/learner.cc:767: \n",
      "Parameters: { \"verbose\" } are not used.\n",
      "\n",
      "[0]\tvalidation_0-mlogloss:2.16148\n",
      "[99]\tvalidation_0-mlogloss:0.31846\n",
      "Default score: [-0.27813944]\n",
      "Accuracy is: 0.8940547282808349\n",
      "F1 is: 0.8979289263593782\n",
      "None\n",
      "-----------------------FOLD 9---------------------\n"
     ]
    },
    {
     "name": "stderr",
     "output_type": "stream",
     "text": [
      "/home/dnlab/anaconda3/lib/python3.9/site-packages/xgboost/sklearn.py:835: UserWarning: `early_stopping_rounds` in `fit` method is deprecated for better compatibility with scikit-learn, use `early_stopping_rounds` in constructor or`set_params` instead.\n",
      "  warnings.warn(\n"
     ]
    },
    {
     "name": "stdout",
     "output_type": "stream",
     "text": [
      "[22:34:56] WARNING: ../src/learner.cc:767: \n",
      "Parameters: { \"verbose\" } are not used.\n",
      "\n",
      "[0]\tvalidation_0-mlogloss:2.16215\n",
      "[99]\tvalidation_0-mlogloss:0.32259\n",
      "Default score: [-0.28021867]\n",
      "Accuracy is: 0.8932260296793705\n",
      "F1 is: 0.897242542915207\n",
      "None\n",
      "-----------------------FOLD 10---------------------\n",
      "---------------CROSS VALIDATION COMPLETE\n",
      "----------------TEST EVALUATION------------------\n"
     ]
    }
   ],
   "source": [
    "split = 10\n",
    "kf = StratifiedKFold(n_splits=split, shuffle=True)\n",
    "\n",
    "open_test = np.zeros((len(testset), 12))\n",
    "      \n",
    "#100 n-estimators and 10 max-depth\n",
    "model = XGBClassifier(n_estimators=100, max_depth=10, booster='gbtree',\n",
    "                            objective='multi:softprob', learning_rate=0.1, random_state=0,\n",
    "                            subsample=0.9, colsample_bytree=0.9, tree_method='gpu_hist',\n",
    "                            eval_metric='mlogloss', verbose=2020, reg_lambda=1500)\n",
    "      \n",
    " \n",
    "i = 1\n",
    "for (train_index, test_index) in kf.split(pd.DataFrame(trainset), pd.DataFrame(labels)):\n",
    "        X_train, X_test = pd.DataFrame(trainset).iloc[train_index], pd.DataFrame(trainset).iloc[test_index]\n",
    "        Y_train, Y_test = pd.DataFrame(labels).iloc[train_index],pd.DataFrame(labels).iloc[test_index]\n",
    "    \n",
    "        model.fit(X_train, Y_train, early_stopping_rounds=100, eval_set=[(X_test, Y_test)], verbose=100)\n",
    "        prediction = model.predict(X_test)\n",
    "        print(show_evaluation(prediction, Y_test))\n",
    " \n",
    "        print(f'-----------------------FOLD {i}---------------------')\n",
    "        i+=1\n",
    " \n",
    "        open_test += model.predict_proba(pd.DataFrame(testset))\n",
    "      \n",
    "open_test= pd.DataFrame(open_test/split)\n",
    "    \n",
    "open_test = np.array(pd.DataFrame(open_test).idxmax(axis=1))\n",
    " \n",
    "print('---------------CROSS VALIDATION COMPLETE')"
   ]
  },
  {
   "cell_type": "code",
   "execution_count": 11,
   "metadata": {},
   "outputs": [
    {
     "data": {
      "text/html": [
       "<div>\n",
       "<style scoped>\n",
       "    .dataframe tbody tr th:only-of-type {\n",
       "        vertical-align: middle;\n",
       "    }\n",
       "\n",
       "    .dataframe tbody tr th {\n",
       "        vertical-align: top;\n",
       "    }\n",
       "\n",
       "    .dataframe thead th {\n",
       "        text-align: right;\n",
       "    }\n",
       "</style>\n",
       "<table border=\"1\" class=\"dataframe\">\n",
       "  <thead>\n",
       "    <tr style=\"text-align: right;\">\n",
       "      <th></th>\n",
       "      <th>WELL</th>\n",
       "      <th>DEPTH_MD</th>\n",
       "      <th>X_LOC</th>\n",
       "      <th>Y_LOC</th>\n",
       "      <th>Z_LOC</th>\n",
       "      <th>GROUP</th>\n",
       "      <th>FORMATION</th>\n",
       "      <th>CALI</th>\n",
       "      <th>RSHA</th>\n",
       "      <th>RMED</th>\n",
       "      <th>...</th>\n",
       "      <th>ROP</th>\n",
       "      <th>DTS</th>\n",
       "      <th>DCAL</th>\n",
       "      <th>DRHO</th>\n",
       "      <th>MUDWEIGHT</th>\n",
       "      <th>RMIC</th>\n",
       "      <th>ROPA</th>\n",
       "      <th>RXO</th>\n",
       "      <th>FORCE_2020_LITHOFACIES_LITHOLOGY</th>\n",
       "      <th>FORCE_2020_LITHOFACIES_CONFIDENCE</th>\n",
       "    </tr>\n",
       "  </thead>\n",
       "  <tbody>\n",
       "    <tr>\n",
       "      <th>0</th>\n",
       "      <td>15/9-23</td>\n",
       "      <td>1518.2800</td>\n",
       "      <td>433906.7500</td>\n",
       "      <td>6460000.5</td>\n",
       "      <td>-1493.241821</td>\n",
       "      <td>HORDALAND GP.</td>\n",
       "      <td>Skade Fm.</td>\n",
       "      <td>15.506232</td>\n",
       "      <td>NaN</td>\n",
       "      <td>NaN</td>\n",
       "      <td>...</td>\n",
       "      <td>146.526276</td>\n",
       "      <td>326.451263</td>\n",
       "      <td>-1.993768</td>\n",
       "      <td>0.109706</td>\n",
       "      <td>NaN</td>\n",
       "      <td>NaN</td>\n",
       "      <td>88.968864</td>\n",
       "      <td>NaN</td>\n",
       "      <td>65000</td>\n",
       "      <td>3.0</td>\n",
       "    </tr>\n",
       "    <tr>\n",
       "      <th>1</th>\n",
       "      <td>15/9-23</td>\n",
       "      <td>1518.4320</td>\n",
       "      <td>433906.7500</td>\n",
       "      <td>6460000.5</td>\n",
       "      <td>-1493.393799</td>\n",
       "      <td>HORDALAND GP.</td>\n",
       "      <td>Skade Fm.</td>\n",
       "      <td>18.524611</td>\n",
       "      <td>NaN</td>\n",
       "      <td>NaN</td>\n",
       "      <td>...</td>\n",
       "      <td>147.605148</td>\n",
       "      <td>322.926361</td>\n",
       "      <td>1.024611</td>\n",
       "      <td>-0.006418</td>\n",
       "      <td>NaN</td>\n",
       "      <td>NaN</td>\n",
       "      <td>92.287186</td>\n",
       "      <td>NaN</td>\n",
       "      <td>65000</td>\n",
       "      <td>3.0</td>\n",
       "    </tr>\n",
       "    <tr>\n",
       "      <th>2</th>\n",
       "      <td>15/9-23</td>\n",
       "      <td>1518.5840</td>\n",
       "      <td>433906.7500</td>\n",
       "      <td>6460000.5</td>\n",
       "      <td>-1493.545776</td>\n",
       "      <td>HORDALAND GP.</td>\n",
       "      <td>Skade Fm.</td>\n",
       "      <td>18.855669</td>\n",
       "      <td>NaN</td>\n",
       "      <td>NaN</td>\n",
       "      <td>...</td>\n",
       "      <td>140.783127</td>\n",
       "      <td>325.283142</td>\n",
       "      <td>1.355668</td>\n",
       "      <td>0.022769</td>\n",
       "      <td>NaN</td>\n",
       "      <td>NaN</td>\n",
       "      <td>95.605499</td>\n",
       "      <td>NaN</td>\n",
       "      <td>65000</td>\n",
       "      <td>3.0</td>\n",
       "    </tr>\n",
       "    <tr>\n",
       "      <th>3</th>\n",
       "      <td>15/9-23</td>\n",
       "      <td>1518.7360</td>\n",
       "      <td>433906.7500</td>\n",
       "      <td>6460000.5</td>\n",
       "      <td>-1493.697754</td>\n",
       "      <td>HORDALAND GP.</td>\n",
       "      <td>Skade Fm.</td>\n",
       "      <td>19.163353</td>\n",
       "      <td>NaN</td>\n",
       "      <td>NaN</td>\n",
       "      <td>...</td>\n",
       "      <td>125.159531</td>\n",
       "      <td>334.233185</td>\n",
       "      <td>1.663353</td>\n",
       "      <td>0.024972</td>\n",
       "      <td>NaN</td>\n",
       "      <td>NaN</td>\n",
       "      <td>98.923820</td>\n",
       "      <td>NaN</td>\n",
       "      <td>65000</td>\n",
       "      <td>3.0</td>\n",
       "    </tr>\n",
       "    <tr>\n",
       "      <th>4</th>\n",
       "      <td>15/9-23</td>\n",
       "      <td>1518.8880</td>\n",
       "      <td>433906.7500</td>\n",
       "      <td>6460000.5</td>\n",
       "      <td>-1493.849609</td>\n",
       "      <td>HORDALAND GP.</td>\n",
       "      <td>Skade Fm.</td>\n",
       "      <td>18.489744</td>\n",
       "      <td>NaN</td>\n",
       "      <td>0.849849</td>\n",
       "      <td>...</td>\n",
       "      <td>107.576691</td>\n",
       "      <td>330.952362</td>\n",
       "      <td>0.989743</td>\n",
       "      <td>0.024527</td>\n",
       "      <td>NaN</td>\n",
       "      <td>NaN</td>\n",
       "      <td>102.242142</td>\n",
       "      <td>NaN</td>\n",
       "      <td>65000</td>\n",
       "      <td>3.0</td>\n",
       "    </tr>\n",
       "    <tr>\n",
       "      <th>...</th>\n",
       "      <td>...</td>\n",
       "      <td>...</td>\n",
       "      <td>...</td>\n",
       "      <td>...</td>\n",
       "      <td>...</td>\n",
       "      <td>...</td>\n",
       "      <td>...</td>\n",
       "      <td>...</td>\n",
       "      <td>...</td>\n",
       "      <td>...</td>\n",
       "      <td>...</td>\n",
       "      <td>...</td>\n",
       "      <td>...</td>\n",
       "      <td>...</td>\n",
       "      <td>...</td>\n",
       "      <td>...</td>\n",
       "      <td>...</td>\n",
       "      <td>...</td>\n",
       "      <td>...</td>\n",
       "      <td>...</td>\n",
       "      <td>...</td>\n",
       "    </tr>\n",
       "    <tr>\n",
       "      <th>122392</th>\n",
       "      <td>35/9-7</td>\n",
       "      <td>2973.2988</td>\n",
       "      <td>536096.0625</td>\n",
       "      <td>6793022.0</td>\n",
       "      <td>-2943.444580</td>\n",
       "      <td>BAAT GP.</td>\n",
       "      <td>Etive Fm.</td>\n",
       "      <td>8.276272</td>\n",
       "      <td>NaN</td>\n",
       "      <td>2.820439</td>\n",
       "      <td>...</td>\n",
       "      <td>15.195305</td>\n",
       "      <td>136.911575</td>\n",
       "      <td>NaN</td>\n",
       "      <td>0.502458</td>\n",
       "      <td>NaN</td>\n",
       "      <td>2.311106</td>\n",
       "      <td>24.306124</td>\n",
       "      <td>NaN</td>\n",
       "      <td>65000</td>\n",
       "      <td>2.0</td>\n",
       "    </tr>\n",
       "    <tr>\n",
       "      <th>122393</th>\n",
       "      <td>35/9-7</td>\n",
       "      <td>2973.4508</td>\n",
       "      <td>536096.0625</td>\n",
       "      <td>6793022.0</td>\n",
       "      <td>-2943.595947</td>\n",
       "      <td>BAAT GP.</td>\n",
       "      <td>Etive Fm.</td>\n",
       "      <td>8.267273</td>\n",
       "      <td>NaN</td>\n",
       "      <td>3.020778</td>\n",
       "      <td>...</td>\n",
       "      <td>15.770223</td>\n",
       "      <td>137.583923</td>\n",
       "      <td>NaN</td>\n",
       "      <td>0.374753</td>\n",
       "      <td>NaN</td>\n",
       "      <td>1.853418</td>\n",
       "      <td>22.201078</td>\n",
       "      <td>NaN</td>\n",
       "      <td>65000</td>\n",
       "      <td>2.0</td>\n",
       "    </tr>\n",
       "    <tr>\n",
       "      <th>122394</th>\n",
       "      <td>35/9-7</td>\n",
       "      <td>2973.6028</td>\n",
       "      <td>536096.0625</td>\n",
       "      <td>6793022.0</td>\n",
       "      <td>-2943.747559</td>\n",
       "      <td>BAAT GP.</td>\n",
       "      <td>Etive Fm.</td>\n",
       "      <td>8.250099</td>\n",
       "      <td>NaN</td>\n",
       "      <td>2.795711</td>\n",
       "      <td>...</td>\n",
       "      <td>16.418465</td>\n",
       "      <td>138.310898</td>\n",
       "      <td>NaN</td>\n",
       "      <td>0.211487</td>\n",
       "      <td>NaN</td>\n",
       "      <td>1.325961</td>\n",
       "      <td>20.096741</td>\n",
       "      <td>NaN</td>\n",
       "      <td>65000</td>\n",
       "      <td>2.0</td>\n",
       "    </tr>\n",
       "    <tr>\n",
       "      <th>122395</th>\n",
       "      <td>35/9-7</td>\n",
       "      <td>2973.7548</td>\n",
       "      <td>536096.0625</td>\n",
       "      <td>6793022.0</td>\n",
       "      <td>-2943.899170</td>\n",
       "      <td>BAAT GP.</td>\n",
       "      <td>Etive Fm.</td>\n",
       "      <td>NaN</td>\n",
       "      <td>NaN</td>\n",
       "      <td>2.658694</td>\n",
       "      <td>...</td>\n",
       "      <td>17.037945</td>\n",
       "      <td>137.592819</td>\n",
       "      <td>NaN</td>\n",
       "      <td>0.147950</td>\n",
       "      <td>NaN</td>\n",
       "      <td>1.260347</td>\n",
       "      <td>17.992323</td>\n",
       "      <td>NaN</td>\n",
       "      <td>65000</td>\n",
       "      <td>2.0</td>\n",
       "    </tr>\n",
       "    <tr>\n",
       "      <th>122396</th>\n",
       "      <td>35/9-7</td>\n",
       "      <td>2973.9068</td>\n",
       "      <td>536096.0625</td>\n",
       "      <td>6793022.0</td>\n",
       "      <td>-2944.050537</td>\n",
       "      <td>BAAT GP.</td>\n",
       "      <td>Etive Fm.</td>\n",
       "      <td>NaN</td>\n",
       "      <td>NaN</td>\n",
       "      <td>2.802693</td>\n",
       "      <td>...</td>\n",
       "      <td>17.618532</td>\n",
       "      <td>136.129761</td>\n",
       "      <td>NaN</td>\n",
       "      <td>0.174232</td>\n",
       "      <td>NaN</td>\n",
       "      <td>1.266063</td>\n",
       "      <td>15.889325</td>\n",
       "      <td>NaN</td>\n",
       "      <td>65000</td>\n",
       "      <td>2.0</td>\n",
       "    </tr>\n",
       "  </tbody>\n",
       "</table>\n",
       "<p>122397 rows × 29 columns</p>\n",
       "</div>"
      ],
      "text/plain": [
       "           WELL   DEPTH_MD        X_LOC      Y_LOC        Z_LOC  \\\n",
       "0       15/9-23  1518.2800  433906.7500  6460000.5 -1493.241821   \n",
       "1       15/9-23  1518.4320  433906.7500  6460000.5 -1493.393799   \n",
       "2       15/9-23  1518.5840  433906.7500  6460000.5 -1493.545776   \n",
       "3       15/9-23  1518.7360  433906.7500  6460000.5 -1493.697754   \n",
       "4       15/9-23  1518.8880  433906.7500  6460000.5 -1493.849609   \n",
       "...         ...        ...          ...        ...          ...   \n",
       "122392   35/9-7  2973.2988  536096.0625  6793022.0 -2943.444580   \n",
       "122393   35/9-7  2973.4508  536096.0625  6793022.0 -2943.595947   \n",
       "122394   35/9-7  2973.6028  536096.0625  6793022.0 -2943.747559   \n",
       "122395   35/9-7  2973.7548  536096.0625  6793022.0 -2943.899170   \n",
       "122396   35/9-7  2973.9068  536096.0625  6793022.0 -2944.050537   \n",
       "\n",
       "                GROUP  FORMATION       CALI  RSHA      RMED  ...         ROP  \\\n",
       "0       HORDALAND GP.  Skade Fm.  15.506232   NaN       NaN  ...  146.526276   \n",
       "1       HORDALAND GP.  Skade Fm.  18.524611   NaN       NaN  ...  147.605148   \n",
       "2       HORDALAND GP.  Skade Fm.  18.855669   NaN       NaN  ...  140.783127   \n",
       "3       HORDALAND GP.  Skade Fm.  19.163353   NaN       NaN  ...  125.159531   \n",
       "4       HORDALAND GP.  Skade Fm.  18.489744   NaN  0.849849  ...  107.576691   \n",
       "...               ...        ...        ...   ...       ...  ...         ...   \n",
       "122392       BAAT GP.  Etive Fm.   8.276272   NaN  2.820439  ...   15.195305   \n",
       "122393       BAAT GP.  Etive Fm.   8.267273   NaN  3.020778  ...   15.770223   \n",
       "122394       BAAT GP.  Etive Fm.   8.250099   NaN  2.795711  ...   16.418465   \n",
       "122395       BAAT GP.  Etive Fm.        NaN   NaN  2.658694  ...   17.037945   \n",
       "122396       BAAT GP.  Etive Fm.        NaN   NaN  2.802693  ...   17.618532   \n",
       "\n",
       "               DTS      DCAL      DRHO  MUDWEIGHT      RMIC        ROPA  RXO  \\\n",
       "0       326.451263 -1.993768  0.109706        NaN       NaN   88.968864  NaN   \n",
       "1       322.926361  1.024611 -0.006418        NaN       NaN   92.287186  NaN   \n",
       "2       325.283142  1.355668  0.022769        NaN       NaN   95.605499  NaN   \n",
       "3       334.233185  1.663353  0.024972        NaN       NaN   98.923820  NaN   \n",
       "4       330.952362  0.989743  0.024527        NaN       NaN  102.242142  NaN   \n",
       "...            ...       ...       ...        ...       ...         ...  ...   \n",
       "122392  136.911575       NaN  0.502458        NaN  2.311106   24.306124  NaN   \n",
       "122393  137.583923       NaN  0.374753        NaN  1.853418   22.201078  NaN   \n",
       "122394  138.310898       NaN  0.211487        NaN  1.325961   20.096741  NaN   \n",
       "122395  137.592819       NaN  0.147950        NaN  1.260347   17.992323  NaN   \n",
       "122396  136.129761       NaN  0.174232        NaN  1.266063   15.889325  NaN   \n",
       "\n",
       "        FORCE_2020_LITHOFACIES_LITHOLOGY  FORCE_2020_LITHOFACIES_CONFIDENCE  \n",
       "0                                  65000                                3.0  \n",
       "1                                  65000                                3.0  \n",
       "2                                  65000                                3.0  \n",
       "3                                  65000                                3.0  \n",
       "4                                  65000                                3.0  \n",
       "...                                  ...                                ...  \n",
       "122392                             65000                                2.0  \n",
       "122393                             65000                                2.0  \n",
       "122394                             65000                                2.0  \n",
       "122395                             65000                                2.0  \n",
       "122396                             65000                                2.0  \n",
       "\n",
       "[122397 rows x 29 columns]"
      ]
     },
     "execution_count": 11,
     "metadata": {},
     "output_type": "execute_result"
    }
   ],
   "source": [
    "test2 = pd.read_csv('/home/dnlab/Data-B/my_research/Geoscience_FL/data_well_log/hidden_test.csv', sep=';')\n",
    "test2"
   ]
  },
  {
   "cell_type": "code",
   "execution_count": 12,
   "metadata": {},
   "outputs": [
    {
     "name": "stdout",
     "output_type": "stream",
     "text": [
      "Shape of concatenated dataframe before dropping columns: (122397, 29)\n",
      "Shape of dataframe after dropping columns: (122397, 23)\n",
      "Shape of dataframe after label encoding columns: (122397, 26)\n",
      "Dataframe columns: Index(['DEPTH_MD', 'X_LOC', 'Y_LOC', 'Z_LOC', 'CALI', 'RSHA', 'RMED', 'RDEP',\n",
      "       'RHOB', 'GR', 'NPHI', 'PEF', 'DTC', 'SP', 'BS', 'ROP', 'DCAL', 'DRHO',\n",
      "       'MUDWEIGHT', 'RMIC', 'GROUP_encoded', 'FORMATION_encoded',\n",
      "       'WELL_encoded'],\n",
      "      dtype='object')\n",
      "Shape of the dataset BEFORE augmentation: (122397, 23)\n",
      "Shape of the dataset AFTER augmentation: (122397, 92)\n"
     ]
    }
   ],
   "source": [
    "hidden_test = preprocess(test2)"
   ]
  },
  {
   "cell_type": "code",
   "execution_count": 13,
   "metadata": {},
   "outputs": [
    {
     "data": {
      "text/plain": [
       "array([2, 2, 2, ..., 2, 2, 2])"
      ]
     },
     "execution_count": 13,
     "metadata": {},
     "output_type": "execute_result"
    }
   ],
   "source": [
    "prediction = model.predict(hidden_test)\n",
    "prediction"
   ]
  },
  {
   "cell_type": "code",
   "execution_count": 14,
   "metadata": {},
   "outputs": [],
   "source": [
    "lithology_labels = {30000: 'Sandstone',\n",
    "                 65030: 'Sandstone/Shale',\n",
    "                 65000: 'Shale',\n",
    "                 80000: 'Marl',\n",
    "                 74000: 'Dolomite',\n",
    "                 70000: 'Limestone',\n",
    "                 70032: 'Chalk',\n",
    "                 88000: 'Halite',\n",
    "                 86000: 'Anhydrite',\n",
    "                 99000: 'Tuff',\n",
    "                 90000: 'Coal',\n",
    "                 93000: 'Basement'}"
   ]
  },
  {
   "cell_type": "code",
   "execution_count": 15,
   "metadata": {},
   "outputs": [
    {
     "data": {
      "text/plain": [
       "{0: 'Sandstone',\n",
       " 1: 'Sandstone/Shale',\n",
       " 2: 'Shale',\n",
       " 3: 'Marl',\n",
       " 4: 'Dolomite',\n",
       " 5: 'Limestone',\n",
       " 6: 'Chalk',\n",
       " 7: 'Halite',\n",
       " 8: 'Anhydrite',\n",
       " 9: 'Tuff',\n",
       " 10: 'Coal',\n",
       " 11: 'Basement'}"
      ]
     },
     "execution_count": 15,
     "metadata": {},
     "output_type": "execute_result"
    }
   ],
   "source": [
    "lithology_dict = {value: lithology_labels[key] for key, value in lithology_numbers.items()}\n",
    "lithology_dict"
   ]
  },
  {
   "cell_type": "code",
   "execution_count": null,
   "metadata": {},
   "outputs": [],
   "source": [
    "prediction_labels = [lithology_dict[pred] for pred in prediction]\n",
    "prediction_labels"
   ]
  },
  {
   "cell_type": "markdown",
   "metadata": {},
   "source": [
    "# Hidden test accuracy"
   ]
  },
  {
   "cell_type": "code",
   "execution_count": 17,
   "metadata": {},
   "outputs": [
    {
     "data": {
      "text/plain": [
       "0         65000\n",
       "1         65000\n",
       "2         65000\n",
       "3         65000\n",
       "4         65000\n",
       "          ...  \n",
       "122392    65000\n",
       "122393    65000\n",
       "122394    65000\n",
       "122395    65000\n",
       "122396    65000\n",
       "Name: FORCE_2020_LITHOFACIES_LITHOLOGY, Length: 122397, dtype: int64"
      ]
     },
     "execution_count": 17,
     "metadata": {},
     "output_type": "execute_result"
    }
   ],
   "source": [
    "true_labels = test2['FORCE_2020_LITHOFACIES_LITHOLOGY']\n",
    "true_labels"
   ]
  },
  {
   "cell_type": "code",
   "execution_count": null,
   "metadata": {},
   "outputs": [],
   "source": [
    "true_labels = [lithology_labels[i] for i in true_labels]\n",
    "true_labels"
   ]
  },
  {
   "cell_type": "code",
   "execution_count": 20,
   "metadata": {},
   "outputs": [
    {
     "name": "stdout",
     "output_type": "stream",
     "text": [
      "F1 score: 0.6626989966067026\n"
     ]
    }
   ],
   "source": [
    "f1 = f1_score(true_labels, prediction_labels, average='weighted')\n",
    "print(f\"F1 score: {f1}\")"
   ]
  },
  {
   "cell_type": "code",
   "execution_count": 21,
   "metadata": {},
   "outputs": [
    {
     "data": {
      "image/png": "[encoded data removed]",
      "text/plain": [
       "<Figure size 800x600 with 1 Axes>"
      ]
     },
     "metadata": {},
     "output_type": "display_data"
    }
   ],
   "source": [
    "import matplotlib.pyplot as plt\n",
    "import seaborn as sns\n",
    "from sklearn.metrics import confusion_matrix\n",
    "\n",
    "# Create a confusion matrix\n",
    "conf_matrix = confusion_matrix(true_labels, prediction_labels)\n",
    "plt.figure(figsize=(8, 6))\n",
    "sns.heatmap(conf_matrix, annot=True, fmt='d', cmap='Blues', cbar=False,\n",
    "            xticklabels=lithology_labels.values(), yticklabels=lithology_labels.values())\n",
    "plt.xlabel('Predicted Labels')\n",
    "plt.ylabel('True Labels')\n",
    "plt.title('Confusion Matrix')\n",
    "plt.show()\n"
   ]
  },
  {
   "attachments": {},
   "cell_type": "markdown",
   "metadata": {},
   "source": [
    "# Without K-fold"
   ]
  },
  {
   "cell_type": "code",
   "execution_count": 10,
   "metadata": {},
   "outputs": [
    {
     "name": "stderr",
     "output_type": "stream",
     "text": [
      "/home/dnlab/anaconda3/lib/python3.9/site-packages/xgboost/sklearn.py:835: UserWarning: `early_stopping_rounds` in `fit` method is deprecated for better compatibility with scikit-learn, use `early_stopping_rounds` in constructor or`set_params` instead.\n",
      "  warnings.warn(\n"
     ]
    },
    {
     "name": "stdout",
     "output_type": "stream",
     "text": [
      "[12:04:55] WARNING: ../src/learner.cc:767: \n",
      "Parameters: { \"verbose\" } are not used.\n",
      "\n",
      "[0]\tvalidation_0-mlogloss:2.16583\n",
      "[99]\tvalidation_0-mlogloss:0.32331\n",
      "Default score: -0.28050259928322147\n",
      "Accuracy is: 0.893076978936622\n",
      "F1 is: 0.8971550346849022\n",
      "None\n"
     ]
    }
   ],
   "source": [
    "from sklearn.model_selection import train_test_split\n",
    "\n",
    "# Splitting the data into training and validation sets (80% training, 20% validation)\n",
    "X_train, X_val, Y_train, Y_val = train_test_split(trainset, labels, test_size=0.2, stratify=labels, random_state=0)\n",
    "\n",
    "#100 n-estimators and 10 max-depth\n",
    "model = XGBClassifier(n_estimators=100, max_depth=10, booster='gbtree',\n",
    "                      objective='multi:softprob', learning_rate=0.1, random_state=0,\n",
    "                      subsample=0.9, colsample_bytree=0.9, tree_method='gpu_hist',\n",
    "                      eval_metric='mlogloss', verbose=2020, reg_lambda=1500)\n",
    "\n",
    "# Training the model\n",
    "model.fit(X_train, Y_train, early_stopping_rounds=100, eval_set=[(X_val, Y_val)], verbose=100)\n",
    "\n",
    "# Making predictions on the validation set\n",
    "prediction = model.predict(X_val)\n",
    "print(show_evaluation(prediction, Y_val))\n",
    "\n",
    "# Making predictions on the test set\n",
    "open_test = model.predict_proba(testset)\n",
    "open_test = open_test.argmax(axis=1)"
   ]
  },
  {
   "cell_type": "code",
   "execution_count": 20,
   "metadata": {},
   "outputs": [
    {
     "name": "stdout",
     "output_type": "stream",
     "text": [
      "F1 score: 0.6341959642573898\n"
     ]
    }
   ],
   "source": [
    "# Hidden test accuracy without K-Fold cross-validation\n",
    "f1 = f1_score(true_labels, prediction_labels, average='weighted')\n",
    "print(f\"F1 score: {f1}\")"
   ]
  }
 ],
 "metadata": {
  "kernelspec": {
   "display_name": "base",
   "language": "python",
   "name": "python3"
  },
  "language_info": {
   "codemirror_mode": {
    "name": "ipython",
    "version": 3
   },
   "file_extension": ".py",
   "mimetype": "text/x-python",
   "name": "python",
   "nbconvert_exporter": "python",
   "pygments_lexer": "ipython3",
   "version": "3.9.13"
  },
  "orig_nbformat": 4
 },
 "nbformat": 4,
 "nbformat_minor": 2
}
