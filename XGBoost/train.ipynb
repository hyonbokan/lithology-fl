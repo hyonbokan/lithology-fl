{
 "cells": [
  {
   "attachments": {},
   "cell_type": "markdown",
   "metadata": {},
   "source": [
    "### Research\n",
    "In well log lithology interpretation, the phrase \"building a proper algorithm to map stringers\" refers to the process of developing a systematic and accurate method to identify and characterize stringers within the geological formations encountered in a well.\n",
    "\n",
    "Stringers typically refer to thin, elongated or discontinuous layers or veins of a specific lithology (rock type) within a larger formation. These stringers may have distinct properties or lithologies compared to the surrounding rock units, and identifying and mapping them accurately is important for understanding the geological characteristics of the subsurface.\n",
    "\n",
    "To \"build a proper algorithm\" means creating a set of rules or procedures that can be applied to well log data to identify and delineate stringers. This algorithm should leverage the information provided by different well log measurements, such as gamma ray, resistivity, density, neutron porosity, etc., to detect and classify stringers based on their unique signatures.\n",
    "\n",
    "The algorithm may involve analyzing patterns and anomalies in the well log data, using statistical methods, applying machine learning techniques, or incorporating domain-specific knowledge. The goal is to create a reliable and consistent approach that can be applied across multiple wells or sections of a well to accurately identify and map stringers in the subsurface.\n",
    "\n",
    "By developing such an algorithm, geoscientists and reservoir engineers can gain insights into the distribution and characteristics of stringers, which can have implications for hydrocarbon reservoir quality, fluid flow behavior, and overall geological modeling and interpretation."
   ]
  },
  {
   "cell_type": "code",
   "execution_count": 1,
   "metadata": {},
   "outputs": [],
   "source": [
    "import pandas as pd\n",
    "import numpy as np\n",
    "import numpy.random as nr\n",
    "import xgboost as xgb\n",
    "import matplotlib.pyplot as plt\n",
    "from xgboost import XGBClassifier\n",
    "from sklearn.model_selection import StratifiedKFold\n",
    "from sklearn.metrics import accuracy_score, f1_score"
   ]
  },
  {
   "cell_type": "code",
   "execution_count": 2,
   "metadata": {},
   "outputs": [],
   "source": [
    "def process(data):\n",
    "\n",
    "    '''\n",
    "    function to process dataframe by replacing missing, infinity values with -999\n",
    "\n",
    "    args:: \n",
    "      data:  dataframe to be operated on\n",
    "    \n",
    "    returns dataframe with replaced values\n",
    "    '''\n",
    "    \n",
    "    cols = list(data.columns)\n",
    "    for _ in cols:\n",
    "\n",
    "        data[_] = np.where(data[_] == np.inf, -999, data[_])\n",
    "        data[_] = np.where(data[_] == np.nan, -999, data[_])\n",
    "        data[_] = np.where(data[_] == -np.inf, -999, data[_])\n",
    "        \n",
    "    return data"
   ]
  },
  {
   "cell_type": "code",
   "execution_count": 3,
   "metadata": {},
   "outputs": [],
   "source": [
    "def fill_missing_values(df):\n",
    "\n",
    "    '''\n",
    "    function to process dataframe by replacing missing, infinity values with -999\n",
    "\n",
    "    args:: \n",
    "      data:  dataframe to be operated on\n",
    "    \n",
    "    returns dataframe with replaced values\n",
    "    '''\n",
    "    \n",
    "    cols = list(df.columns)\n",
    "    for _ in cols:\n",
    "\n",
    "        df[_] = np.where(df[_] == np.inf, -999, df[_])\n",
    "        df[_] = np.where(df[_] == np.nan, -999, df[_])\n",
    "        df[_] = np.where(df[_] == -np.inf, -999, df[_])\n",
    "        \n",
    "    return df\n"
   ]
  },
  {
   "cell_type": "code",
   "execution_count": 19,
   "metadata": {},
   "outputs": [],
   "source": [
    "PWD = '/media/Data-B/my_research/Geoscience_FL/data_well_log/'\n",
    "\n",
    "A = np.load('penalty_matrix.npy')\n",
    "train = pd.read_csv(PWD + 'train.csv', sep=';')\n",
    "test = pd.read_csv(PWD + 'test.csv', sep=';')\n",
    "hidden_test = pd.read_csv(PWD + 'hidden_test.csv', sep=';')"
   ]
  },
  {
   "attachments": {},
   "cell_type": "markdown",
   "metadata": {},
   "source": [
    "The augment_features_window function is used to concatenate feature windows in a given dataset. It takes two inputs: X, which is the input feature matrix, and N_neig, representing the number of neighboring windows to consider on each side of the current window. The function performs the following steps:"
   ]
  },
  {
   "cell_type": "code",
   "execution_count": 20,
   "metadata": {},
   "outputs": [],
   "source": [
    "#Paulo Bestagini's feature augmentation technique from SEG 2016 ML competition\n",
    "#Link : https://github.com/seg/2016-ml-contest/tree/master/ispl\n",
    "\n",
    "\n",
    "# Feature windows concatenation function\n",
    "def augment_features_window(X, N_neig):\n",
    "    \n",
    "    # Parameters\n",
    "    N_row = X.shape[0]\n",
    "    N_feat = X.shape[1]\n",
    " \n",
    "    # Zero padding\n",
    "    X = np.vstack((np.zeros((N_neig, N_feat)), X, (np.zeros((N_neig, N_feat)))))\n",
    " \n",
    "    # Loop over windows\n",
    "    X_aug = np.zeros((N_row, N_feat*(2*N_neig+1)))\n",
    "    for r in np.arange(N_row)+N_neig:\n",
    "        this_row = []\n",
    "        for c in np.arange(-N_neig,N_neig+1):\n",
    "            this_row = np.hstack((this_row, X[r+c]))\n",
    "        X_aug[r-N_neig] = this_row\n",
    " \n",
    "    return X_aug\n",
    " \n",
    "# Feature gradient computation function\n",
    "def augment_features_gradient(X, depth):\n",
    "    \n",
    "    # Compute features gradient\n",
    "    d_diff = np.diff(depth).reshape((-1, 1))\n",
    "    d_diff[d_diff==0] = 0.001\n",
    "    X_diff = np.diff(X, axis=0)\n",
    "    X_grad = X_diff / d_diff\n",
    "        \n",
    "    # Compensate for last missing value\n",
    "    X_grad = np.concatenate((X_grad, np.zeros((1, X_grad.shape[1]))))\n",
    "    \n",
    "    return X_grad\n",
    " \n",
    "# Feature augmentation function\n",
    "def augment_features(X, well, depth, N_neig=1):\n",
    "    \n",
    "    # Augment features\n",
    "    X_aug = np.zeros((X.shape[0], X.shape[1]*(N_neig*2+2)))\n",
    "    for w in np.unique(well):\n",
    "        w_idx = np.where(well == w)[0]\n",
    "        X_aug_win = augment_features_window(X[w_idx, :], N_neig)\n",
    "        X_aug_grad = augment_features_gradient(X[w_idx, :], depth[w_idx])\n",
    "        X_aug[w_idx, :] = np.concatenate((X_aug_win, X_aug_grad), axis=1)\n",
    "    \n",
    "    # Find padded rows\n",
    "    padded_rows = np.unique(np.where(X_aug[:, 0:7] == np.zeros((1, 7)))[0])\n",
    "    \n",
    "    return X_aug, padded_rows\n",
    "\n",
    "def score(y_true, y_pred):\n",
    "\n",
    "    '''\n",
    "    custom metric used for evaluation\n",
    "    args:\n",
    "      y_true: actual prediction\n",
    "      y_pred: predictions made\n",
    "    '''\n",
    "\n",
    "    S = 0.0\n",
    "    y_true = y_true.astype(int)\n",
    "    y_pred = y_pred.astype(int)\n",
    "    for i in range(0, y_true.shape[0]):\n",
    "        S -= A[y_true[i], y_pred[i]]\n",
    "    return S/y_true.shape[0]"
   ]
  },
  {
   "cell_type": "code",
   "execution_count": 21,
   "metadata": {},
   "outputs": [],
   "source": [
    "def show_evaluation(pred, true):\n",
    "\n",
    "  '''\n",
    "\n",
    "  function to show model performance and evaluation\n",
    "  args:\n",
    "    pred: predicted value(a list)\n",
    "    true: actual values (a list)\n",
    "\n",
    "  prints the custom metric performance, accuracy and F1 score of predictions\n",
    "\n",
    "  '''\n",
    "\n",
    "  print(f'Default score: {score(true.values, pred)}')\n",
    "  print(f'Accuracy is: {accuracy_score(true, pred)}')\n",
    "  print(f'F1 is: {f1_score(pred, true.values, average=\"weighted\")}')"
   ]
  },
  {
   "cell_type": "code",
   "execution_count": 32,
   "metadata": {},
   "outputs": [],
   "source": [
    "class Model():\n",
    "\n",
    "    '''\n",
    "    class to lithology prediction\n",
    "    '''\n",
    "    \n",
    "    def __init__(self, train, test):\n",
    "\n",
    "        '''\n",
    "        takes in the train and test dataframes\n",
    "        '''\n",
    "        \n",
    "        self.train = train\n",
    "        self.test = test\n",
    "\n",
    "        \n",
    "    def __call__(self, plot = True, save_file = True):\n",
    "\n",
    "      return self.fit(plot, save_file)\n",
    "\n",
    "    def preprocess(self, train, test):\n",
    "\n",
    "        '''\n",
    "        method to prepare datasets for training and predictions\n",
    "        accepts both the train and test dataframes as arguments\n",
    "\n",
    "        returns the prepared train, test datasets along with the\n",
    "        lithology labels and numbers which is needed for preparing\n",
    "        the submission file\n",
    "\n",
    "        '''\n",
    "\n",
    "        #concatenating both train and test datasets for easier and uniform processing\n",
    "\n",
    "        ntrain = train.shape[0]\n",
    "        ntest = test.shape[0]\n",
    "        target = train.FORCE_2020_LITHOFACIES_LITHOLOGY.copy()\n",
    "        df = pd.concat((train, test)).reset_index(drop=True)\n",
    "\n",
    "        #mapping the lithology labels to ordinal values for better modelling\n",
    "\n",
    "        lithology = train['FORCE_2020_LITHOFACIES_LITHOLOGY']\n",
    " \n",
    "        lithology_numbers = {30000: 0,\n",
    "                        65030: 1,\n",
    "                        65000: 2,\n",
    "                        80000: 3,\n",
    "                        74000: 4,\n",
    "                        70000: 5,\n",
    "                        70032: 6,\n",
    "                        88000: 7,\n",
    "                        86000: 8,\n",
    "                        99000: 9,\n",
    "                        90000: 10,\n",
    "                        93000: 11}\n",
    "        \n",
    "        lithology1 = lithology.map(lithology_numbers)\n",
    "\n",
    "        #implementing Bestagini's augmentation procedure\n",
    "\n",
    "        train_well = train.WELL.values\n",
    "        train_depth = train.DEPTH_MD.values\n",
    "        \n",
    "        test_well = test.WELL.values\n",
    "        test_depth = test.DEPTH_MD.values  \n",
    "        '''to be continued...\n",
    "        #this was done here for ease as the datasets would undergo some transformations\n",
    "        #that would make it uneasy to perform the augmentation technique'''\n",
    "\n",
    "        \n",
    "\n",
    "        print(f'shape of concatenated dataframe before dropping columns {df.shape}')\n",
    "\n",
    "        cols = ['FORCE_2020_LITHOFACIES_CONFIDENCE', 'SGR', 'DTS', 'RXO', 'ROPA'] #columns to be dropped\n",
    "        df = df.drop(cols, axis=1)\n",
    "        print(f'shape of dataframe after dropping columns {df.shape}')\n",
    "        print(f'{cols} were dropped')\n",
    "\n",
    "        #Label encoding the GROUP, FORMATION and WELLS features as these improved the performance of the models on validations\n",
    "\n",
    "        df['GROUP_encoded'] = df['GROUP'].astype('category')\n",
    "        df['GROUP_encoded'] = df['GROUP_encoded'].cat.codes \n",
    "        df['FORMATION_encoded'] = df['FORMATION'].astype('category')\n",
    "        df['FORMATION_encoded'] = df['FORMATION_encoded'].cat.codes\n",
    "        df['WELL_encoded'] = df['WELL'].astype('category')\n",
    "        df['WELL_encoded'] = df['WELL_encoded'].cat.codes\n",
    "        print(f'shape of dataframe after label encoding columns {df.shape}')\n",
    "\n",
    "\n",
    "        #FURTHER PREPRATION TO SPLIT DATAFRAME INTO TRAIN AND TEST DATASETS AFTER PREPRATION\n",
    "        print(f'Splitting concatenated dataframe into training and test datasets...')\n",
    "        df = df.drop(['WELL', 'GROUP', 'FORMATION'], axis=1)\n",
    "        print(df.shape)\n",
    "        \n",
    "        df = df.fillna(-999)\n",
    "        df = process(df)\n",
    "        data = df.copy()\n",
    "        \n",
    "        train2 = data[:ntrain].copy()\n",
    "        train2.drop(['FORCE_2020_LITHOFACIES_LITHOLOGY'], axis=1, inplace=True)\n",
    "        \n",
    "        test2 = data[ntrain:(ntest+ntrain)].copy()\n",
    "        test2.drop(['FORCE_2020_LITHOFACIES_LITHOLOGY'], axis=1, inplace=True)\n",
    "        test2 = test2.reset_index(drop=True)\n",
    "\n",
    "        traindata = train2\n",
    "        testdata = test2\n",
    "\n",
    "        print(f'Shape of train and test datasets before augmentation {traindata.shape, testdata.shape}')\n",
    " \n",
    "        traindata1, padded_rows = augment_features(pd.DataFrame(traindata).values, train_well, train_depth)\n",
    "        testdata1, padded_rows = augment_features(pd.DataFrame(testdata).values, test_well, test_depth)\n",
    "        \n",
    "        print(f'Shape of train and test datasets after augmentation {traindata1.shape, testdata1.shape}')\n",
    "    \n",
    "        return traindata1, testdata1, lithology1, lithology_numbers\n",
    "\n",
    "    \n",
    "    def fit(self, plot, save_file):\n",
    "\n",
    "      '''\n",
    "      method to train model and make predictions\n",
    "\n",
    "      returns the test predictions, trained model, and lithology numbers used for making the submission file\n",
    "      '''\n",
    "\n",
    "      traindata1, testdata1, lithology1, lithology_numbers = self.preprocess(self.train, self.test)\n",
    "\n",
    "      #using a 10-fold stratified cross-validation technique and seting the shuffle parameter to true\n",
    "      #as this improved the validation performance better\n",
    "\n",
    "      split = 10\n",
    "      kf = StratifiedKFold(n_splits=split, shuffle=True)\n",
    "  \n",
    "      open_test = np.zeros((len(testdata1), 12))\n",
    "      \n",
    "      #100 n-estimators and 10 max-depth\n",
    "      model = XGBClassifier(n_estimators=100, max_depth=10, booster='gbtree',\n",
    "                            objective='multi:softprob', learning_rate=0.1, random_state=0,\n",
    "                            subsample=0.9, colsample_bytree=0.9, tree_method='gpu_hist',\n",
    "                            eval_metric='mlogloss', verbose=2020, reg_lambda=1500)\n",
    "      \n",
    " \n",
    "      i = 1\n",
    "      for (train_index, test_index) in kf.split(pd.DataFrame(traindata1), pd.DataFrame(lithology1)):\n",
    "        X_train, X_test = pd.DataFrame(traindata1).iloc[train_index], pd.DataFrame(traindata1).iloc[test_index]\n",
    "        Y_train, Y_test = pd.DataFrame(lithology1).iloc[train_index],pd.DataFrame(lithology1).iloc[test_index]\n",
    "    \n",
    "        model.fit(X_train, Y_train, early_stopping_rounds=100, eval_set=[(X_test, Y_test)], verbose=100)\n",
    "        prediction = model.predict(X_test)\n",
    "        print(show_evaluation(prediction, Y_test))\n",
    " \n",
    "        print(f'-----------------------FOLD {i}---------------------')\n",
    "        i+=1\n",
    " \n",
    "        open_test += model.predict_proba(pd.DataFrame(testdata1))\n",
    "      \n",
    "      open_test= pd.DataFrame(open_test/split)\n",
    "    \n",
    "      open_test = np.array(pd.DataFrame(open_test).idxmax(axis=1))\n",
    " \n",
    "      print('---------------CROSS VALIDATION COMPLETE')\n",
    "      print('----------------TEST EVALUATION------------------')\n",
    "\n",
    "                  \n",
    "      if plot: self.plot_feat_imp(model)\n",
    "\n",
    "      if save_file: \n",
    "        category_to_lithology = {y:x for x,y in lithology_numbers.items()}\n",
    "        test_prediction = np.vectorize(category_to_lithology.get)(open_test)\n",
    "        np.savetxt(PWD + 'saved_test.csv', test_prediction, header='lithology', fmt='%i')\n",
    "        print(f'Test file was saved at {PWD}')\n",
    "\n",
    "      return open_test, model, lithology_numbers\n",
    "              \n",
    "              \n",
    "    def plot_feat_imp(self, model):\n",
    "        feat_imp = pd.Series(model.feature_importances_).sort_values(ascending=False)\n",
    "        plt.figure(figsize=(12,8))\n",
    "        feat_imp.plot(kind='bar', title='Feature Importances')\n",
    "        plt.ylabel('Feature Importance Score')\n",
    "      \n"
   ]
  },
  {
   "cell_type": "code",
   "execution_count": 29,
   "metadata": {},
   "outputs": [
    {
     "name": "stdout",
     "output_type": "stream",
     "text": [
      "shape of concatenated dataframe before dropping columns (1307297, 29)\n",
      "shape of dataframe after dropping columns (1307297, 24)\n",
      "['FORCE_2020_LITHOFACIES_CONFIDENCE', 'SGR', 'DTS', 'RXO', 'ROPA'] were dropped\n",
      "shape of dataframe after label encoding columns (1307297, 27)\n",
      "Splitting concatenated dataframe into training and test datasets...\n",
      "(1307297, 24)\n",
      "Shape of train and test datasets before augmentation ((1170511, 23), (136786, 23))\n",
      "Shape of train and test datasets after augmentation ((1170511, 92), (136786, 92))\n"
     ]
    },
    {
     "name": "stderr",
     "output_type": "stream",
     "text": [
      "/home/dnlab/anaconda3/lib/python3.9/site-packages/xgboost/sklearn.py:835: UserWarning: `early_stopping_rounds` in `fit` method is deprecated for better compatibility with scikit-learn, use `early_stopping_rounds` in constructor or`set_params` instead.\n",
      "  warnings.warn(\n"
     ]
    },
    {
     "name": "stdout",
     "output_type": "stream",
     "text": [
      "[15:40:12] WARNING: ../src/learner.cc:767: \n",
      "Parameters: { \"verbose\" } are not used.\n",
      "\n",
      "[0]\tvalidation_0-mlogloss:2.16257\n",
      "[99]\tvalidation_0-mlogloss:0.31878\n",
      "Default score: [-0.27601301]\n",
      "Accuracy is: 0.8954481768786522\n",
      "F1 is: 0.8993384185369895\n",
      "None\n",
      "-----------------------FOLD 1---------------------\n"
     ]
    },
    {
     "name": "stderr",
     "output_type": "stream",
     "text": [
      "/home/dnlab/anaconda3/lib/python3.9/site-packages/xgboost/sklearn.py:835: UserWarning: `early_stopping_rounds` in `fit` method is deprecated for better compatibility with scikit-learn, use `early_stopping_rounds` in constructor or`set_params` instead.\n",
      "  warnings.warn(\n"
     ]
    },
    {
     "name": "stdout",
     "output_type": "stream",
     "text": [
      "[15:40:43] WARNING: ../src/learner.cc:767: \n",
      "Parameters: { \"verbose\" } are not used.\n",
      "\n",
      "[0]\tvalidation_0-mlogloss:2.16181\n",
      "[99]\tvalidation_0-mlogloss:0.31853\n",
      "Default score: [-0.27763325]\n",
      "Accuracy is: 0.8944989790774961\n",
      "F1 is: 0.8983172995034832\n",
      "None\n",
      "-----------------------FOLD 2---------------------\n"
     ]
    },
    {
     "name": "stderr",
     "output_type": "stream",
     "text": [
      "/home/dnlab/anaconda3/lib/python3.9/site-packages/xgboost/sklearn.py:835: UserWarning: `early_stopping_rounds` in `fit` method is deprecated for better compatibility with scikit-learn, use `early_stopping_rounds` in constructor or`set_params` instead.\n",
      "  warnings.warn(\n"
     ]
    },
    {
     "name": "stdout",
     "output_type": "stream",
     "text": [
      "[15:41:14] WARNING: ../src/learner.cc:767: \n",
      "Parameters: { \"verbose\" } are not used.\n",
      "\n",
      "[0]\tvalidation_0-mlogloss:2.16218\n",
      "[99]\tvalidation_0-mlogloss:0.31776\n",
      "Default score: [-0.27616381]\n",
      "Accuracy is: 0.894780907467685\n",
      "F1 is: 0.8987179702065834\n",
      "None\n",
      "-----------------------FOLD 3---------------------\n"
     ]
    },
    {
     "name": "stderr",
     "output_type": "stream",
     "text": [
      "/home/dnlab/anaconda3/lib/python3.9/site-packages/xgboost/sklearn.py:835: UserWarning: `early_stopping_rounds` in `fit` method is deprecated for better compatibility with scikit-learn, use `early_stopping_rounds` in constructor or`set_params` instead.\n",
      "  warnings.warn(\n"
     ]
    },
    {
     "name": "stdout",
     "output_type": "stream",
     "text": [
      "[15:41:44] WARNING: ../src/learner.cc:767: \n",
      "Parameters: { \"verbose\" } are not used.\n",
      "\n",
      "[0]\tvalidation_0-mlogloss:2.16176\n",
      "[99]\tvalidation_0-mlogloss:0.31721\n",
      "Default score: [-0.27724347]\n",
      "Accuracy is: 0.8946100417766615\n",
      "F1 is: 0.8985731199811154\n",
      "None\n",
      "-----------------------FOLD 4---------------------\n"
     ]
    },
    {
     "name": "stderr",
     "output_type": "stream",
     "text": [
      "/home/dnlab/anaconda3/lib/python3.9/site-packages/xgboost/sklearn.py:835: UserWarning: `early_stopping_rounds` in `fit` method is deprecated for better compatibility with scikit-learn, use `early_stopping_rounds` in constructor or`set_params` instead.\n",
      "  warnings.warn(\n"
     ]
    },
    {
     "name": "stdout",
     "output_type": "stream",
     "text": [
      "[15:42:15] WARNING: ../src/learner.cc:767: \n",
      "Parameters: { \"verbose\" } are not used.\n",
      "\n",
      "[0]\tvalidation_0-mlogloss:2.16174\n",
      "[99]\tvalidation_0-mlogloss:0.31610\n",
      "Default score: [-0.27232574]\n",
      "Accuracy is: 0.8960367702967083\n",
      "F1 is: 0.8997867913066475\n",
      "None\n",
      "-----------------------FOLD 5---------------------\n"
     ]
    },
    {
     "name": "stderr",
     "output_type": "stream",
     "text": [
      "/home/dnlab/anaconda3/lib/python3.9/site-packages/xgboost/sklearn.py:835: UserWarning: `early_stopping_rounds` in `fit` method is deprecated for better compatibility with scikit-learn, use `early_stopping_rounds` in constructor or`set_params` instead.\n",
      "  warnings.warn(\n"
     ]
    },
    {
     "name": "stdout",
     "output_type": "stream",
     "text": [
      "[15:42:46] WARNING: ../src/learner.cc:767: \n",
      "Parameters: { \"verbose\" } are not used.\n",
      "\n",
      "[0]\tvalidation_0-mlogloss:2.16231\n",
      "[99]\tvalidation_0-mlogloss:0.32016\n",
      "Default score: [-0.27816401]\n",
      "Accuracy is: 0.894396459662882\n",
      "F1 is: 0.8984114375721077\n",
      "None\n",
      "-----------------------FOLD 6---------------------\n"
     ]
    },
    {
     "name": "stderr",
     "output_type": "stream",
     "text": [
      "/home/dnlab/anaconda3/lib/python3.9/site-packages/xgboost/sklearn.py:835: UserWarning: `early_stopping_rounds` in `fit` method is deprecated for better compatibility with scikit-learn, use `early_stopping_rounds` in constructor or`set_params` instead.\n",
      "  warnings.warn(\n"
     ]
    },
    {
     "name": "stdout",
     "output_type": "stream",
     "text": [
      "[15:43:17] WARNING: ../src/learner.cc:767: \n",
      "Parameters: { \"verbose\" } are not used.\n",
      "\n",
      "[0]\tvalidation_0-mlogloss:2.16162\n",
      "[99]\tvalidation_0-mlogloss:0.31790\n",
      "Default score: [-0.27629409]\n",
      "Accuracy is: 0.894874883597748\n",
      "F1 is: 0.8988063631934639\n",
      "None\n",
      "-----------------------FOLD 7---------------------\n"
     ]
    },
    {
     "name": "stderr",
     "output_type": "stream",
     "text": [
      "/home/dnlab/anaconda3/lib/python3.9/site-packages/xgboost/sklearn.py:835: UserWarning: `early_stopping_rounds` in `fit` method is deprecated for better compatibility with scikit-learn, use `early_stopping_rounds` in constructor or`set_params` instead.\n",
      "  warnings.warn(\n"
     ]
    },
    {
     "name": "stdout",
     "output_type": "stream",
     "text": [
      "[15:43:48] WARNING: ../src/learner.cc:767: \n",
      "Parameters: { \"verbose\" } are not used.\n",
      "\n",
      "[0]\tvalidation_0-mlogloss:2.16190\n",
      "[99]\tvalidation_0-mlogloss:0.31552\n",
      "Default score: [-0.27449573]\n",
      "Accuracy is: 0.8958829911747871\n",
      "F1 is: 0.8997673168120687\n",
      "None\n",
      "-----------------------FOLD 8---------------------\n"
     ]
    },
    {
     "name": "stderr",
     "output_type": "stream",
     "text": [
      "/home/dnlab/anaconda3/lib/python3.9/site-packages/xgboost/sklearn.py:835: UserWarning: `early_stopping_rounds` in `fit` method is deprecated for better compatibility with scikit-learn, use `early_stopping_rounds` in constructor or`set_params` instead.\n",
      "  warnings.warn(\n"
     ]
    },
    {
     "name": "stdout",
     "output_type": "stream",
     "text": [
      "[15:44:19] WARNING: ../src/learner.cc:767: \n",
      "Parameters: { \"verbose\" } are not used.\n",
      "\n",
      "[0]\tvalidation_0-mlogloss:2.16204\n",
      "[99]\tvalidation_0-mlogloss:0.31849\n",
      "Default score: [-0.27701814]\n",
      "Accuracy is: 0.8948492537440944\n",
      "F1 is: 0.8988360121438612\n",
      "None\n",
      "-----------------------FOLD 9---------------------\n"
     ]
    },
    {
     "name": "stderr",
     "output_type": "stream",
     "text": [
      "/home/dnlab/anaconda3/lib/python3.9/site-packages/xgboost/sklearn.py:835: UserWarning: `early_stopping_rounds` in `fit` method is deprecated for better compatibility with scikit-learn, use `early_stopping_rounds` in constructor or`set_params` instead.\n",
      "  warnings.warn(\n"
     ]
    },
    {
     "name": "stdout",
     "output_type": "stream",
     "text": [
      "[15:44:50] WARNING: ../src/learner.cc:767: \n",
      "Parameters: { \"verbose\" } are not used.\n",
      "\n",
      "[0]\tvalidation_0-mlogloss:2.16239\n",
      "[99]\tvalidation_0-mlogloss:0.32290\n",
      "Default score: [-0.28474127]\n",
      "Accuracy is: 0.8919957967040009\n",
      "F1 is: 0.8958727911863027\n",
      "None\n",
      "-----------------------FOLD 10---------------------\n",
      "---------------CROSS VALIDATION COMPLETE\n",
      "----------------TEST EVALUATION------------------\n",
      "Test file was saved\n"
     ]
    },
    {
     "data": {
      "image/png": "[encoded data removed]",
      "text/plain": [
       "<Figure size 1200x800 with 1 Axes>"
      ]
     },
     "metadata": {},
     "output_type": "display_data"
    }
   ],
   "source": [
    "#To train model and make prediction\n",
    "func_= Model(train, test)\n",
    "prediction, model, redundant = func_()"
   ]
  },
  {
   "cell_type": "code",
   "execution_count": 30,
   "metadata": {},
   "outputs": [
    {
     "data": {
      "text/plain": [
       "array([2, 2, 2, ..., 0, 1, 1])"
      ]
     },
     "execution_count": 30,
     "metadata": {},
     "output_type": "execute_result"
    }
   ],
   "source": [
    "# Prediction of the model above\n",
    "prediction"
   ]
  },
  {
   "cell_type": "code",
   "execution_count": 31,
   "metadata": {},
   "outputs": [
    {
     "data": {
      "text/plain": [
       "65000    96936\n",
       "30000    23746\n",
       "65030     9194\n",
       "70000     5037\n",
       "99000      978\n",
       "80000      483\n",
       "90000      397\n",
       "86000       15\n",
       "Name: # lithology, dtype: int64"
      ]
     },
     "execution_count": 31,
     "metadata": {},
     "output_type": "execute_result"
    }
   ],
   "source": [
    "pred_df = pd.read_csv(f'{PWD}saved_test.csv')\n",
    "pred_df['# lithology'].value_counts()"
   ]
  },
  {
   "cell_type": "code",
   "execution_count": 35,
   "metadata": {},
   "outputs": [],
   "source": [
    "PWD = '/media/Data-B/my_research/Geoscience_FL/data_well_log/'\n",
    "\n",
    "A = np.load('penalty_matrix.npy')\n",
    "train = pd.read_csv(PWD + 'train.csv', sep=';')\n",
    "test = pd.read_csv(PWD + 'test.csv', sep=';')\n",
    "hidden_test = pd.read_csv(PWD + 'hidden_test.csv', sep=';')"
   ]
  },
  {
   "cell_type": "code",
   "execution_count": 36,
   "metadata": {},
   "outputs": [
    {
     "name": "stdout",
     "output_type": "stream",
     "text": [
      "shape of concatenated dataframe before dropping columns (1292908, 29)\n",
      "shape of dataframe after dropping columns (1292908, 24)\n",
      "['FORCE_2020_LITHOFACIES_CONFIDENCE', 'SGR', 'DTS', 'RXO', 'ROPA'] were dropped\n",
      "shape of dataframe after label encoding columns (1292908, 27)\n",
      "Splitting concatenated dataframe into training and test datasets...\n",
      "(1292908, 24)\n",
      "Shape of train and test datasets before augmentation ((1170511, 23), (122397, 23))\n",
      "Shape of train and test datasets after augmentation ((1170511, 92), (122397, 92))\n"
     ]
    },
    {
     "name": "stderr",
     "output_type": "stream",
     "text": [
      "/home/dnlab/anaconda3/lib/python3.9/site-packages/xgboost/sklearn.py:835: UserWarning: `early_stopping_rounds` in `fit` method is deprecated for better compatibility with scikit-learn, use `early_stopping_rounds` in constructor or`set_params` instead.\n",
      "  warnings.warn(\n"
     ]
    },
    {
     "name": "stdout",
     "output_type": "stream",
     "text": [
      "[15:49:44] WARNING: ../src/learner.cc:767: \n",
      "Parameters: { \"verbose\" } are not used.\n",
      "\n",
      "[0]\tvalidation_0-mlogloss:2.16220\n",
      "[99]\tvalidation_0-mlogloss:0.31827\n",
      "Default score: [-0.27675841]\n",
      "Accuracy is: 0.8947988927997813\n",
      "F1 is: 0.8987229275519424\n",
      "None\n",
      "-----------------------FOLD 1---------------------\n"
     ]
    },
    {
     "name": "stderr",
     "output_type": "stream",
     "text": [
      "/home/dnlab/anaconda3/lib/python3.9/site-packages/xgboost/sklearn.py:835: UserWarning: `early_stopping_rounds` in `fit` method is deprecated for better compatibility with scikit-learn, use `early_stopping_rounds` in constructor or`set_params` instead.\n",
      "  warnings.warn(\n"
     ]
    },
    {
     "name": "stdout",
     "output_type": "stream",
     "text": [
      "[15:50:15] WARNING: ../src/learner.cc:767: \n",
      "Parameters: { \"verbose\" } are not used.\n",
      "\n",
      "[0]\tvalidation_0-mlogloss:2.16224\n",
      "[99]\tvalidation_0-mlogloss:0.31595\n",
      "Default score: [-0.27532443]\n",
      "Accuracy is: 0.8953447642480629\n",
      "F1 is: 0.8990070887543582\n",
      "None\n",
      "-----------------------FOLD 2---------------------\n"
     ]
    },
    {
     "name": "stderr",
     "output_type": "stream",
     "text": [
      "/home/dnlab/anaconda3/lib/python3.9/site-packages/xgboost/sklearn.py:835: UserWarning: `early_stopping_rounds` in `fit` method is deprecated for better compatibility with scikit-learn, use `early_stopping_rounds` in constructor or`set_params` instead.\n",
      "  warnings.warn(\n"
     ]
    },
    {
     "name": "stdout",
     "output_type": "stream",
     "text": [
      "[15:50:46] WARNING: ../src/learner.cc:767: \n",
      "Parameters: { \"verbose\" } are not used.\n",
      "\n",
      "[0]\tvalidation_0-mlogloss:2.16140\n",
      "[99]\tvalidation_0-mlogloss:0.31615\n",
      "Default score: [-0.27439215]\n",
      "Accuracy is: 0.8954643702317793\n",
      "F1 is: 0.8992083730609859\n",
      "None\n",
      "-----------------------FOLD 3---------------------\n"
     ]
    },
    {
     "name": "stderr",
     "output_type": "stream",
     "text": [
      "/home/dnlab/anaconda3/lib/python3.9/site-packages/xgboost/sklearn.py:835: UserWarning: `early_stopping_rounds` in `fit` method is deprecated for better compatibility with scikit-learn, use `early_stopping_rounds` in constructor or`set_params` instead.\n",
      "  warnings.warn(\n"
     ]
    },
    {
     "name": "stdout",
     "output_type": "stream",
     "text": [
      "[15:51:17] WARNING: ../src/learner.cc:767: \n",
      "Parameters: { \"verbose\" } are not used.\n",
      "\n",
      "[0]\tvalidation_0-mlogloss:2.16225\n",
      "[99]\tvalidation_0-mlogloss:0.31925\n",
      "Default score: [-0.27939744]\n",
      "Accuracy is: 0.8940889014190395\n",
      "F1 is: 0.8980117872761183\n",
      "None\n",
      "-----------------------FOLD 4---------------------\n"
     ]
    },
    {
     "name": "stderr",
     "output_type": "stream",
     "text": [
      "/home/dnlab/anaconda3/lib/python3.9/site-packages/xgboost/sklearn.py:835: UserWarning: `early_stopping_rounds` in `fit` method is deprecated for better compatibility with scikit-learn, use `early_stopping_rounds` in constructor or`set_params` instead.\n",
      "  warnings.warn(\n"
     ]
    },
    {
     "name": "stdout",
     "output_type": "stream",
     "text": [
      "[15:51:49] WARNING: ../src/learner.cc:767: \n",
      "Parameters: { \"verbose\" } are not used.\n",
      "\n",
      "[0]\tvalidation_0-mlogloss:2.16195\n",
      "[99]\tvalidation_0-mlogloss:0.31952\n",
      "Default score: [-0.27656214]\n",
      "Accuracy is: 0.8949859462969133\n",
      "F1 is: 0.8989819923607889\n",
      "None\n",
      "-----------------------FOLD 5---------------------\n"
     ]
    },
    {
     "name": "stderr",
     "output_type": "stream",
     "text": [
      "/home/dnlab/anaconda3/lib/python3.9/site-packages/xgboost/sklearn.py:835: UserWarning: `early_stopping_rounds` in `fit` method is deprecated for better compatibility with scikit-learn, use `early_stopping_rounds` in constructor or`set_params` instead.\n",
      "  warnings.warn(\n"
     ]
    },
    {
     "name": "stdout",
     "output_type": "stream",
     "text": [
      "[15:52:19] WARNING: ../src/learner.cc:767: \n",
      "Parameters: { \"verbose\" } are not used.\n",
      "\n",
      "[0]\tvalidation_0-mlogloss:2.16204\n",
      "[99]\tvalidation_0-mlogloss:0.31868\n",
      "Default score: [-0.28012683]\n",
      "Accuracy is: 0.8937471700369924\n",
      "F1 is: 0.897780959783587\n",
      "None\n",
      "-----------------------FOLD 6---------------------\n"
     ]
    },
    {
     "name": "stderr",
     "output_type": "stream",
     "text": [
      "/home/dnlab/anaconda3/lib/python3.9/site-packages/xgboost/sklearn.py:835: UserWarning: `early_stopping_rounds` in `fit` method is deprecated for better compatibility with scikit-learn, use `early_stopping_rounds` in constructor or`set_params` instead.\n",
      "  warnings.warn(\n"
     ]
    },
    {
     "name": "stdout",
     "output_type": "stream",
     "text": [
      "[15:52:50] WARNING: ../src/learner.cc:767: \n",
      "Parameters: { \"verbose\" } are not used.\n",
      "\n",
      "[0]\tvalidation_0-mlogloss:2.16186\n",
      "[99]\tvalidation_0-mlogloss:0.31793\n",
      "Default score: [-0.27662835]\n",
      "Accuracy is: 0.894584411923008\n",
      "F1 is: 0.8986586344422488\n",
      "None\n",
      "-----------------------FOLD 7---------------------\n"
     ]
    },
    {
     "name": "stderr",
     "output_type": "stream",
     "text": [
      "/home/dnlab/anaconda3/lib/python3.9/site-packages/xgboost/sklearn.py:835: UserWarning: `early_stopping_rounds` in `fit` method is deprecated for better compatibility with scikit-learn, use `early_stopping_rounds` in constructor or`set_params` instead.\n",
      "  warnings.warn(\n"
     ]
    },
    {
     "name": "stdout",
     "output_type": "stream",
     "text": [
      "[15:53:21] WARNING: ../src/learner.cc:767: \n",
      "Parameters: { \"verbose\" } are not used.\n",
      "\n",
      "[0]\tvalidation_0-mlogloss:2.16159\n",
      "[99]\tvalidation_0-mlogloss:0.31625\n",
      "Default score: [-0.27510444]\n",
      "Accuracy is: 0.8956608657764564\n",
      "F1 is: 0.8995360747491613\n",
      "None\n",
      "-----------------------FOLD 8---------------------\n"
     ]
    },
    {
     "name": "stderr",
     "output_type": "stream",
     "text": [
      "/home/dnlab/anaconda3/lib/python3.9/site-packages/xgboost/sklearn.py:835: UserWarning: `early_stopping_rounds` in `fit` method is deprecated for better compatibility with scikit-learn, use `early_stopping_rounds` in constructor or`set_params` instead.\n",
      "  warnings.warn(\n"
     ]
    },
    {
     "name": "stdout",
     "output_type": "stream",
     "text": [
      "[15:53:52] WARNING: ../src/learner.cc:767: \n",
      "Parameters: { \"verbose\" } are not used.\n",
      "\n",
      "[0]\tvalidation_0-mlogloss:2.16209\n",
      "[99]\tvalidation_0-mlogloss:0.31837\n",
      "Default score: [-0.27827934]\n",
      "Accuracy is: 0.8943708298092284\n",
      "F1 is: 0.8981775029472532\n",
      "None\n",
      "-----------------------FOLD 9---------------------\n"
     ]
    },
    {
     "name": "stderr",
     "output_type": "stream",
     "text": [
      "/home/dnlab/anaconda3/lib/python3.9/site-packages/xgboost/sklearn.py:835: UserWarning: `early_stopping_rounds` in `fit` method is deprecated for better compatibility with scikit-learn, use `early_stopping_rounds` in constructor or`set_params` instead.\n",
      "  warnings.warn(\n"
     ]
    },
    {
     "name": "stdout",
     "output_type": "stream",
     "text": [
      "[15:54:23] WARNING: ../src/learner.cc:767: \n",
      "Parameters: { \"verbose\" } are not used.\n",
      "\n",
      "[0]\tvalidation_0-mlogloss:2.16222\n",
      "[99]\tvalidation_0-mlogloss:0.31965\n",
      "Default score: [-0.27605702]\n",
      "Accuracy is: 0.8948407104595433\n",
      "F1 is: 0.8987118582292674\n",
      "None\n",
      "-----------------------FOLD 10---------------------\n",
      "---------------CROSS VALIDATION COMPLETE\n",
      "----------------TEST EVALUATION------------------\n",
      "Test file was saved at /media/Data-B/my_research/Geoscience_FL/data_well_log/\n"
     ]
    },
    {
     "data": {
      "image/png": "[encoded data removed]",
      "text/plain": [
       "<Figure size 1200x800 with 1 Axes>"
      ]
     },
     "metadata": {},
     "output_type": "display_data"
    }
   ],
   "source": [
    "run_hidden_test = Model(train, hidden_test)\n",
    "prediction, model, redundant = run_hidden_test()"
   ]
  },
  {
   "cell_type": "code",
   "execution_count": null,
   "metadata": {},
   "outputs": [],
   "source": []
  }
 ],
 "metadata": {
  "kernelspec": {
   "display_name": "base",
   "language": "python",
   "name": "python3"
  },
  "language_info": {
   "codemirror_mode": {
    "name": "ipython",
    "version": 3
   },
   "file_extension": ".py",
   "mimetype": "text/x-python",
   "name": "python",
   "nbconvert_exporter": "python",
   "pygments_lexer": "ipython3",
   "version": "3.9.13"
  },
  "orig_nbformat": 4
 },
 "nbformat": 4,
 "nbformat_minor": 2
}
