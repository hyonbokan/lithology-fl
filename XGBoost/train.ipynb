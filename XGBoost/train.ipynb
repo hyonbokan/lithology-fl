{
 "cells": [
  {
   "attachments": {},
   "cell_type": "markdown",
   "metadata": {},
   "source": [
    "### Research\n",
    "In well log lithology interpretation, the phrase \"building a proper algorithm to map stringers\" refers to the process of developing a systematic and accurate method to identify and characterize stringers within the geological formations encountered in a well.\n",
    "\n",
    "Stringers typically refer to thin, elongated or discontinuous layers or veins of a specific lithology (rock type) within a larger formation. These stringers may have distinct properties or lithologies compared to the surrounding rock units, and identifying and mapping them accurately is important for understanding the geological characteristics of the subsurface.\n",
    "\n",
    "To \"build a proper algorithm\" means creating a set of rules or procedures that can be applied to well log data to identify and delineate stringers. This algorithm should leverage the information provided by different well log measurements, such as gamma ray, resistivity, density, neutron porosity, etc., to detect and classify stringers based on their unique signatures.\n",
    "\n",
    "The algorithm may involve analyzing patterns and anomalies in the well log data, using statistical methods, applying machine learning techniques, or incorporating domain-specific knowledge. The goal is to create a reliable and consistent approach that can be applied across multiple wells or sections of a well to accurately identify and map stringers in the subsurface.\n",
    "\n",
    "By developing such an algorithm, geoscientists and reservoir engineers can gain insights into the distribution and characteristics of stringers, which can have implications for hydrocarbon reservoir quality, fluid flow behavior, and overall geological modeling and interpretation."
   ]
  },
  {
   "cell_type": "code",
   "execution_count": 13,
   "metadata": {},
   "outputs": [],
   "source": [
    "import pandas as pd\n",
    "import numpy as np\n",
    "import numpy.random as nr\n",
    "import xgboost as xgb\n",
    "import matplotlib.pyplot as plt\n",
    "from xgboost import XGBClassifier\n",
    "from sklearn.model_selection import StratifiedKFold\n",
    "from sklearn.metrics import accuracy_score, f1_score\n",
    "import pickle"
   ]
  },
  {
   "cell_type": "code",
   "execution_count": 37,
   "metadata": {},
   "outputs": [],
   "source": [
    "def drop_columns(data, *args):\n",
    "\n",
    "    '''\n",
    "    function used to drop columns.\n",
    "    args:: \n",
    "      data:  dataframe to be operated on\n",
    "      *args: a list of columns to be dropped from the dataframe\n",
    "\n",
    "    return: returns a dataframe with the columns dropped\n",
    "    '''\n",
    "    \n",
    "    columns = []\n",
    "    for _ in args:\n",
    "        columns.append(_)\n",
    "        \n",
    "    data = data.drop(columns, axis=1)\n",
    "        \n",
    "    return data\n",
    "\n",
    "\n",
    "def process(data):\n",
    "\n",
    "    '''\n",
    "    function to process dataframe by replacing missing, infinity values with -999\n",
    "\n",
    "    args:: \n",
    "      data:  dataframe to be operated on\n",
    "    \n",
    "    returns dataframe with replaced values\n",
    "    '''\n",
    "    \n",
    "    cols = list(data.columns)\n",
    "    for _ in cols:\n",
    "\n",
    "        data[_] = np.where(data[_] == np.inf, -999, data[_])\n",
    "        data[_] = np.where(data[_] == np.nan, -999, data[_])\n",
    "        data[_] = np.where(data[_] == -np.inf, -999, data[_])\n",
    "        \n",
    "    return data"
   ]
  },
  {
   "cell_type": "code",
   "execution_count": 38,
   "metadata": {},
   "outputs": [],
   "source": [
    "def fill_missing_values(df):\n",
    "\n",
    "    '''\n",
    "    function to process dataframe by replacing missing, infinity values with -999\n",
    "\n",
    "    args:: \n",
    "      data:  dataframe to be operated on\n",
    "    \n",
    "    returns dataframe with replaced values\n",
    "    '''\n",
    "    \n",
    "    cols = list(df.columns)\n",
    "    for _ in cols:\n",
    "\n",
    "        df[_] = np.where(df[_] == np.inf, -999, df[_])\n",
    "        df[_] = np.where(df[_] == np.nan, -999, df[_])\n",
    "        df[_] = np.where(df[_] == -np.inf, -999, df[_])\n",
    "        \n",
    "    return df\n"
   ]
  },
  {
   "cell_type": "code",
   "execution_count": 70,
   "metadata": {},
   "outputs": [],
   "source": [
    "PWD = '/media/Data-B/my_research/Geoscience_FL/data_well_log/'\n",
    "\n",
    "A = np.load('penalty_matrix.npy')\n",
    "train = pd.read_csv(PWD + 'train.csv', sep=';')\n",
    "test = pd.read_csv(PWD + 'test.csv', sep=';')"
   ]
  },
  {
   "attachments": {},
   "cell_type": "markdown",
   "metadata": {},
   "source": [
    "The augment_features_window function is used to concatenate feature windows in a given dataset. It takes two inputs: X, which is the input feature matrix, and N_neig, representing the number of neighboring windows to consider on each side of the current window. The function performs the following steps:"
   ]
  },
  {
   "cell_type": "code",
   "execution_count": 40,
   "metadata": {},
   "outputs": [],
   "source": [
    "#Paulo Bestagini's feature augmentation technique from SEG 2016 ML competition\n",
    "#Link : https://github.com/seg/2016-ml-contest/tree/master/ispl\n",
    "\n",
    "\n",
    "# Feature windows concatenation function\n",
    "def augment_features_window(X, N_neig):\n",
    "    \n",
    "    # Parameters\n",
    "    N_row = X.shape[0]\n",
    "    N_feat = X.shape[1]\n",
    " \n",
    "    # Zero padding\n",
    "    X = np.vstack((np.zeros((N_neig, N_feat)), X, (np.zeros((N_neig, N_feat)))))\n",
    " \n",
    "    # Loop over windows\n",
    "    X_aug = np.zeros((N_row, N_feat*(2*N_neig+1)))\n",
    "    for r in np.arange(N_row)+N_neig:\n",
    "        this_row = []\n",
    "        for c in np.arange(-N_neig,N_neig+1):\n",
    "            this_row = np.hstack((this_row, X[r+c]))\n",
    "        X_aug[r-N_neig] = this_row\n",
    " \n",
    "    return X_aug\n",
    " \n",
    "# Feature gradient computation function\n",
    "def augment_features_gradient(X, depth):\n",
    "    \n",
    "    # Compute features gradient\n",
    "    d_diff = np.diff(depth).reshape((-1, 1))\n",
    "    d_diff[d_diff==0] = 0.001\n",
    "    X_diff = np.diff(X, axis=0)\n",
    "    X_grad = X_diff / d_diff\n",
    "        \n",
    "    # Compensate for last missing value\n",
    "    X_grad = np.concatenate((X_grad, np.zeros((1, X_grad.shape[1]))))\n",
    "    \n",
    "    return X_grad\n",
    " \n",
    "# Feature augmentation function\n",
    "def augment_features(X, well, depth, N_neig=1):\n",
    "    \n",
    "    # Augment features\n",
    "    X_aug = np.zeros((X.shape[0], X.shape[1]*(N_neig*2+2)))\n",
    "    for w in np.unique(well):\n",
    "        w_idx = np.where(well == w)[0]\n",
    "        X_aug_win = augment_features_window(X[w_idx, :], N_neig)\n",
    "        X_aug_grad = augment_features_gradient(X[w_idx, :], depth[w_idx])\n",
    "        X_aug[w_idx, :] = np.concatenate((X_aug_win, X_aug_grad), axis=1)\n",
    "    \n",
    "    # Find padded rows\n",
    "    padded_rows = np.unique(np.where(X_aug[:, 0:7] == np.zeros((1, 7)))[0])\n",
    "    \n",
    "    return X_aug, padded_rows\n",
    "\n",
    "def score(y_true, y_pred):\n",
    "\n",
    "    '''\n",
    "    custom metric used for evaluation\n",
    "    args:\n",
    "      y_true: actual prediction\n",
    "      y_pred: predictions made\n",
    "    '''\n",
    "\n",
    "    S = 0.0\n",
    "    y_true = y_true.astype(int)\n",
    "    y_pred = y_pred.astype(int)\n",
    "    for i in range(0, y_true.shape[0]):\n",
    "        S -= A[y_true[i], y_pred[i]]\n",
    "    return S/y_true.shape[0]"
   ]
  },
  {
   "cell_type": "code",
   "execution_count": 41,
   "metadata": {},
   "outputs": [],
   "source": [
    "def show_evaluation(pred, true):\n",
    "\n",
    "  '''\n",
    "\n",
    "  function to show model performance and evaluation\n",
    "  args:\n",
    "    pred: predicted value(a list)\n",
    "    true: actual values (a list)\n",
    "\n",
    "  prints the custom metric performance, accuracy and F1 score of predictions\n",
    "\n",
    "  '''\n",
    "\n",
    "  print(f'Default score: {score(true.values, pred)}')\n",
    "  print(f'Accuracy is: {accuracy_score(true, pred)}')\n",
    "  print(f'F1 is: {f1_score(pred, true.values, average=\"weighted\")}')"
   ]
  },
  {
   "cell_type": "code",
   "execution_count": 103,
   "metadata": {},
   "outputs": [],
   "source": [
    "class Model():\n",
    "\n",
    "    '''\n",
    "    class to lithology prediction\n",
    "    '''\n",
    "    \n",
    "    def __init__(self, train, test):\n",
    "\n",
    "        '''\n",
    "        takes in the train and test dataframes\n",
    "        '''\n",
    "        \n",
    "        self.train = train\n",
    "        self.test = test\n",
    "\n",
    "        \n",
    "    def __call__(self, plot = True):\n",
    "\n",
    "      return self.fit(plot)\n",
    "\n",
    "    def preprocess(self, train, test):\n",
    "\n",
    "        '''\n",
    "        method to prepare datasets for training and predictions\n",
    "        accepts both the train and test dataframes as arguments\n",
    "\n",
    "        returns the prepared train, test datasets along with the\n",
    "        lithology labels and numbers which is needed for preparing\n",
    "        the submission file\n",
    "\n",
    "        '''\n",
    "\n",
    "        #concatenating both train and test datasets for easier and uniform processing\n",
    "\n",
    "        ntrain = train.shape[0]\n",
    "        ntest = test.shape[0]\n",
    "        target = train.FORCE_2020_LITHOFACIES_LITHOLOGY.copy()\n",
    "        df = pd.concat((train, test)).reset_index(drop=True)\n",
    "\n",
    "        #mapping the lithology labels to ordinal values for better modelling\n",
    "\n",
    "        lithology = train['FORCE_2020_LITHOFACIES_LITHOLOGY']\n",
    " \n",
    "        lithology_numbers = {30000: 0,\n",
    "                        65030: 1,\n",
    "                        65000: 2,\n",
    "                        80000: 3,\n",
    "                        74000: 4,\n",
    "                        70000: 5,\n",
    "                        70032: 6,\n",
    "                        88000: 7,\n",
    "                        86000: 8,\n",
    "                        99000: 9,\n",
    "                        90000: 10,\n",
    "                        93000: 11}\n",
    "        \n",
    "        lithology1 = lithology.map(lithology_numbers)\n",
    "\n",
    "        #implementing Bestagini's augmentation procedure\n",
    "\n",
    "        train_well = train.WELL.values\n",
    "        train_depth = train.DEPTH_MD.values\n",
    "        \n",
    "        test_well = test.WELL.values\n",
    "        test_depth = test.DEPTH_MD.values  \n",
    "        '''to be continued...\n",
    "        #this was done here for ease as the datasets would undergo some transformations\n",
    "        #that would make it uneasy to perform the augmentation technique'''\n",
    "\n",
    "        \n",
    "\n",
    "        print(f'shape of concatenated dataframe before dropping columns {df.shape}')\n",
    "\n",
    "        cols = ['FORCE_2020_LITHOFACIES_CONFIDENCE', 'SGR', 'DTS', 'RXO', 'ROPA'] #columns to be dropped\n",
    "        df = drop_columns(df, *cols)\n",
    "        print(f'shape of dataframe after dropping columns {df.shape}')\n",
    "        print(f'{cols} were dropped')\n",
    "\n",
    "        #Label encoding the GROUP, FORMATION and WELLS features as these improved the performance of the models on validations\n",
    "\n",
    "        df['GROUP_encoded'] = df['GROUP'].astype('category')\n",
    "        df['GROUP_encoded'] = df['GROUP_encoded'].cat.codes \n",
    "        df['FORMATION_encoded'] = df['FORMATION'].astype('category')\n",
    "        df['FORMATION_encoded'] = df['FORMATION_encoded'].cat.codes\n",
    "        df['WELL_encoded'] = df['WELL'].astype('category')\n",
    "        df['WELL_encoded'] = df['WELL_encoded'].cat.codes\n",
    "        print(f'shape of dataframe after label encoding columns {df.shape}')\n",
    "\n",
    "\n",
    "        #FURTHER PREPRATION TO SPLIT DATAFRAME INTO TRAIN AND TEST DATASETS AFTER PREPRATION\n",
    "        print(f'Splitting concatenated dataframe into training and test datasets...')\n",
    "        df = df.drop(['WELL', 'GROUP', 'FORMATION'], axis=1)\n",
    "        print(df.shape)\n",
    "        \n",
    "        df = df.fillna(-999)\n",
    "        df = process(df)\n",
    "        data = df.copy()\n",
    "        \n",
    "        train2 = data[:ntrain].copy()\n",
    "        train2.drop(['FORCE_2020_LITHOFACIES_LITHOLOGY'], axis=1, inplace=True)\n",
    "        \n",
    "        test2 = data[ntrain:(ntest+ntrain)].copy()\n",
    "        test2.drop(['FORCE_2020_LITHOFACIES_LITHOLOGY'], axis=1, inplace=True)\n",
    "        test2 = test2.reset_index(drop=True)\n",
    "\n",
    "        traindata = train2\n",
    "        testdata = test2\n",
    "\n",
    "        print(f'Shape of train and test datasets BEFORE augmentation {traindata.shape, testdata.shape}')\n",
    " \n",
    "        traindata1, padded_rows = augment_features(pd.DataFrame(traindata).values, train_well, train_depth)\n",
    "        testdata1, padded_rows = augment_features(pd.DataFrame(testdata).values, test_well, test_depth)\n",
    "        \n",
    "\n",
    "        print(f'Shape of train and test datasets AFTER augmentation {traindata1.shape, testdata1.shape}')\n",
    "    \n",
    "        return traindata1, testdata1, lithology1, lithology_numbers\n",
    "\n",
    "    \n",
    "    def fit(self, plot):\n",
    "\n",
    "      '''\n",
    "      method to train model and make predictions\n",
    "\n",
    "      returns the test predictions, trained model, and lithology numbers used for making the submission file\n",
    "      '''\n",
    "\n",
    "      traindata1, testdata1, lithology1, lithology_numbers = self.preprocess(self.train, self.test)\n",
    "\n",
    "      #using a 10-fold stratified cross-validation technique and seting the shuffle parameter to true\n",
    "      #as this improved the validation performance better\n",
    "\n",
    "      split = 10\n",
    "      kf = StratifiedKFold(n_splits=split, shuffle=True)\n",
    "  \n",
    "      open_test = np.zeros((len(testdata1), 12))\n",
    "      \n",
    "      #100 n-estimators and 10 max-depth\n",
    "      model = XGBClassifier(n_estimators=100, max_depth=10, booster='gbtree',\n",
    "                            objective='multi:softprob', learning_rate=0.1, random_state=0,\n",
    "                            subsample=0.9, colsample_bytree=0.9, tree_method='gpu_hist',\n",
    "                            eval_metric='mlogloss', verbose=2020, reg_lambda=1500)\n",
    "      \n",
    " \n",
    "      i = 1\n",
    "      for (train_index, test_index) in kf.split(pd.DataFrame(traindata1), pd.DataFrame(lithology1)):\n",
    "        X_train, X_test = pd.DataFrame(traindata1).iloc[train_index], pd.DataFrame(traindata1).iloc[test_index]\n",
    "        Y_train, Y_test = pd.DataFrame(lithology1).iloc[train_index],pd.DataFrame(lithology1).iloc[test_index]\n",
    "    \n",
    "        model.fit(X_train, Y_train, early_stopping_rounds=100, eval_set=[(X_test, Y_test)], verbose=100)\n",
    "        prediction = model.predict(X_test)\n",
    "        print(show_evaluation(prediction, Y_test))\n",
    " \n",
    "        print(f'-----------------------FOLD {i}---------------------')\n",
    "        i+=1\n",
    " \n",
    "        open_test += model.predict_proba(pd.DataFrame(testdata1))\n",
    "      \n",
    "      open_test= pd.DataFrame(open_test/split)\n",
    "    \n",
    "      open_test = np.array(pd.DataFrame(open_test).idxmax(axis=1))\n",
    " \n",
    "      print('---------------CROSS VALIDATION COMPLETE')\n",
    "      print('----------------TEST EVALUATION------------------')\n",
    "\n",
    "                  \n",
    "      if plot: \n",
    "         feature_names = pd.DataFrame(traindata1).columns\n",
    "         self.plot_feat_imp(model, feature_names)\n",
    "\n",
    "      # pickle.dump(model, open('xgboost_model.pkl', 'wb'))\n",
    "      # print('The model is saved')\n",
    "\n",
    "\n",
    "      return open_test, model, lithology_numbers\n",
    "              \n",
    "              \n",
    "    def plot_feat_imp(self, model, feature_names):\n",
    "        feat_imp = pd.Series(model.feature_importances_, index=feature_names).sort_values(ascending=False)\n",
    "        top_features = feat_imp.head(10)\n",
    "\n",
    "        plt.figure(figsize=(12, 8))\n",
    "        ax = top_features.plot(kind='bar', title='Top 10 Feature Importances')\n",
    "        ax.set_ylabel('Feature Importance Score')\n",
    "\n",
    "        # Replace numerical labels with actual labels\n",
    "        # tick_labels = [feature_names[idx] for idx in top_features.index]\n",
    "        tick_labels = feature_names[top_features.index]\n",
    "        ax.set_xticks(range(len(tick_labels)))\n",
    "        ax.set_xticklabels(tick_labels, rotation=45)\n",
    "\n",
    "        plt.show()\n",
    "\n",
    "\n"
   ]
  },
  {
   "cell_type": "code",
   "execution_count": 98,
   "metadata": {},
   "outputs": [
    {
     "name": "stdout",
     "output_type": "stream",
     "text": [
      "shape of concatenated dataframe before dropping columns (1307297, 29)\n",
      "shape of dataframe after dropping columns (1307297, 24)\n",
      "['FORCE_2020_LITHOFACIES_CONFIDENCE', 'SGR', 'DTS', 'RXO', 'ROPA'] were dropped\n",
      "shape of dataframe after label encoding columns (1307297, 27)\n",
      "Splitting concatenated dataframe into training and test datasets...\n",
      "(1307297, 24)\n",
      "Shape of train and test datasets BEFORE augmentation ((1170511, 23), (136786, 23))\n",
      "Shape of train and test datasets AFTER augmentation ((1170511, 92), (136786, 92))\n"
     ]
    },
    {
     "name": "stderr",
     "output_type": "stream",
     "text": [
      "/home/dnlab/anaconda3/lib/python3.9/site-packages/xgboost/sklearn.py:835: UserWarning: `early_stopping_rounds` in `fit` method is deprecated for better compatibility with scikit-learn, use `early_stopping_rounds` in constructor or`set_params` instead.\n",
      "  warnings.warn(\n"
     ]
    },
    {
     "name": "stdout",
     "output_type": "stream",
     "text": [
      "[15:33:52] WARNING: ../src/learner.cc:767: \n",
      "Parameters: { \"verbose\" } are not used.\n",
      "\n",
      "[0]\tvalidation_0-mlogloss:2.16253\n",
      "[99]\tvalidation_0-mlogloss:0.31984\n",
      "Default score: [[[-2.78034335 -2.13184098 -1.15295766 -2.22636521 -3.51576436\n",
      "   -3.30605949 -3.5164318  -3.95028064 -3.97213952 -2.77527082\n",
      "   -3.44651629 -3.09497275]]]\n",
      "Accuracy is: 0.8946536582031918\n",
      "F1 is: 0.8986283096157163\n",
      "None\n",
      "-----------------------FOLD 1---------------------\n"
     ]
    },
    {
     "name": "stderr",
     "output_type": "stream",
     "text": [
      "/home/dnlab/anaconda3/lib/python3.9/site-packages/xgboost/sklearn.py:835: UserWarning: `early_stopping_rounds` in `fit` method is deprecated for better compatibility with scikit-learn, use `early_stopping_rounds` in constructor or`set_params` instead.\n",
      "  warnings.warn(\n"
     ]
    },
    {
     "name": "stdout",
     "output_type": "stream",
     "text": [
      "[15:34:24] WARNING: ../src/learner.cc:767: \n",
      "Parameters: { \"verbose\" } are not used.\n",
      "\n",
      "[0]\tvalidation_0-mlogloss:2.16209\n",
      "[99]\tvalidation_0-mlogloss:0.31800\n",
      "Default score: [[[-2.78033934 -2.13183356 -1.15294188 -2.22635646 -3.51576343\n",
      "   -3.30605676 -3.5164298  -3.95028022 -3.97214035 -2.77526676\n",
      "   -3.44651156 -3.09499919]]]\n",
      "Accuracy is: 0.8947211044758268\n",
      "F1 is: 0.898608023392828\n",
      "None\n",
      "-----------------------FOLD 2---------------------\n"
     ]
    },
    {
     "name": "stderr",
     "output_type": "stream",
     "text": [
      "/home/dnlab/anaconda3/lib/python3.9/site-packages/xgboost/sklearn.py:835: UserWarning: `early_stopping_rounds` in `fit` method is deprecated for better compatibility with scikit-learn, use `early_stopping_rounds` in constructor or`set_params` instead.\n",
      "  warnings.warn(\n"
     ]
    },
    {
     "name": "stdout",
     "output_type": "stream",
     "text": [
      "[15:34:55] WARNING: ../src/learner.cc:767: \n",
      "Parameters: { \"verbose\" } are not used.\n",
      "\n",
      "[0]\tvalidation_0-mlogloss:2.16159\n",
      "[99]\tvalidation_0-mlogloss:0.31772\n",
      "Default score: [[[-2.7803372  -2.13183142 -1.15294402 -2.22635432 -3.51578799\n",
      "   -3.30604608 -3.51640524 -3.95028236 -3.97214462 -2.77526783\n",
      "   -3.44651156 -3.09500026]]]\n",
      "Accuracy is: 0.894063271565386\n",
      "F1 is: 0.8980045594839716\n",
      "None\n",
      "-----------------------FOLD 3---------------------\n"
     ]
    },
    {
     "name": "stderr",
     "output_type": "stream",
     "text": [
      "/home/dnlab/anaconda3/lib/python3.9/site-packages/xgboost/sklearn.py:835: UserWarning: `early_stopping_rounds` in `fit` method is deprecated for better compatibility with scikit-learn, use `early_stopping_rounds` in constructor or`set_params` instead.\n",
      "  warnings.warn(\n"
     ]
    },
    {
     "name": "stdout",
     "output_type": "stream",
     "text": [
      "[15:35:26] WARNING: ../src/learner.cc:767: \n",
      "Parameters: { \"verbose\" } are not used.\n",
      "\n",
      "[0]\tvalidation_0-mlogloss:2.16214\n",
      "[99]\tvalidation_0-mlogloss:0.31704\n",
      "Default score: [[[-2.7803073  -2.13182822 -1.15297392 -2.22636287 -3.51579013\n",
      "   -3.30604608 -3.51640311 -3.95028236 -3.97214462 -2.7752657\n",
      "   -3.4465169  -3.09500239]]]\n",
      "Accuracy is: 0.8950970089960786\n",
      "F1 is: 0.8990445361126628\n",
      "None\n",
      "-----------------------FOLD 4---------------------\n"
     ]
    },
    {
     "name": "stderr",
     "output_type": "stream",
     "text": [
      "/home/dnlab/anaconda3/lib/python3.9/site-packages/xgboost/sklearn.py:835: UserWarning: `early_stopping_rounds` in `fit` method is deprecated for better compatibility with scikit-learn, use `early_stopping_rounds` in constructor or`set_params` instead.\n",
      "  warnings.warn(\n"
     ]
    },
    {
     "name": "stdout",
     "output_type": "stream",
     "text": [
      "[15:35:57] WARNING: ../src/learner.cc:767: \n",
      "Parameters: { \"verbose\" } are not used.\n",
      "\n",
      "[0]\tvalidation_0-mlogloss:2.16203\n",
      "[99]\tvalidation_0-mlogloss:0.31674\n",
      "Default score: [[[-2.78030517 -2.13182822 -1.15296965 -2.22635005 -3.51576236\n",
      "   -3.30603647 -3.51639563 -3.9502909  -3.97217239 -2.77525715\n",
      "   -3.4465169  -3.09500026]]]\n",
      "Accuracy is: 0.8954216538090234\n",
      "F1 is: 0.8991341934275724\n",
      "None\n",
      "-----------------------FOLD 5---------------------\n"
     ]
    },
    {
     "name": "stderr",
     "output_type": "stream",
     "text": [
      "/home/dnlab/anaconda3/lib/python3.9/site-packages/xgboost/sklearn.py:835: UserWarning: `early_stopping_rounds` in `fit` method is deprecated for better compatibility with scikit-learn, use `early_stopping_rounds` in constructor or`set_params` instead.\n",
      "  warnings.warn(\n"
     ]
    },
    {
     "name": "stdout",
     "output_type": "stream",
     "text": [
      "[15:36:28] WARNING: ../src/learner.cc:767: \n",
      "Parameters: { \"verbose\" } are not used.\n",
      "\n",
      "[0]\tvalidation_0-mlogloss:2.16215\n",
      "[99]\tvalidation_0-mlogloss:0.31922\n",
      "Default score: [[[-2.78031371 -2.13185492 -1.15297499 -2.22637034 -3.51576129\n",
      "   -3.30605676 -3.51642446 -3.95025566 -3.97216384 -2.77523686\n",
      "   -3.44650409 -3.09500453]]]\n",
      "Accuracy is: 0.8945502387848032\n",
      "F1 is: 0.8984861416206662\n",
      "None\n",
      "-----------------------FOLD 6---------------------\n"
     ]
    },
    {
     "name": "stderr",
     "output_type": "stream",
     "text": [
      "/home/dnlab/anaconda3/lib/python3.9/site-packages/xgboost/sklearn.py:835: UserWarning: `early_stopping_rounds` in `fit` method is deprecated for better compatibility with scikit-learn, use `early_stopping_rounds` in constructor or`set_params` instead.\n",
      "  warnings.warn(\n"
     ]
    },
    {
     "name": "stdout",
     "output_type": "stream",
     "text": [
      "[15:36:59] WARNING: ../src/learner.cc:767: \n",
      "Parameters: { \"verbose\" } are not used.\n",
      "\n",
      "[0]\tvalidation_0-mlogloss:2.16197\n",
      "[99]\tvalidation_0-mlogloss:0.31994\n",
      "Default score: [[[-2.78031371 -2.13185492 -1.15297499 -2.22637034 -3.51576129\n",
      "   -3.30605676 -3.51642446 -3.95025566 -3.97216384 -2.77523686\n",
      "   -3.44650409 -3.09500453]]]\n",
      "Accuracy is: 0.8940803581344884\n",
      "F1 is: 0.8979803482611938\n",
      "None\n",
      "-----------------------FOLD 7---------------------\n"
     ]
    },
    {
     "name": "stderr",
     "output_type": "stream",
     "text": [
      "/home/dnlab/anaconda3/lib/python3.9/site-packages/xgboost/sklearn.py:835: UserWarning: `early_stopping_rounds` in `fit` method is deprecated for better compatibility with scikit-learn, use `early_stopping_rounds` in constructor or`set_params` instead.\n",
      "  warnings.warn(\n"
     ]
    },
    {
     "name": "stdout",
     "output_type": "stream",
     "text": [
      "[15:37:30] WARNING: ../src/learner.cc:767: \n",
      "Parameters: { \"verbose\" } are not used.\n",
      "\n",
      "[0]\tvalidation_0-mlogloss:2.16143\n",
      "[99]\tvalidation_0-mlogloss:0.31812\n",
      "Default score: [[[-2.78031371 -2.13185492 -1.15297499 -2.22637034 -3.51576129\n",
      "   -3.30605676 -3.51642446 -3.95025566 -3.97216384 -2.77523686\n",
      "   -3.44650409 -3.09500453]]]\n",
      "Accuracy is: 0.8951055522806298\n",
      "F1 is: 0.8990151091536097\n",
      "None\n",
      "-----------------------FOLD 8---------------------\n"
     ]
    },
    {
     "name": "stderr",
     "output_type": "stream",
     "text": [
      "/home/dnlab/anaconda3/lib/python3.9/site-packages/xgboost/sklearn.py:835: UserWarning: `early_stopping_rounds` in `fit` method is deprecated for better compatibility with scikit-learn, use `early_stopping_rounds` in constructor or`set_params` instead.\n",
      "  warnings.warn(\n"
     ]
    },
    {
     "name": "stdout",
     "output_type": "stream",
     "text": [
      "[15:38:01] WARNING: ../src/learner.cc:767: \n",
      "Parameters: { \"verbose\" } are not used.\n",
      "\n",
      "[0]\tvalidation_0-mlogloss:2.16230\n",
      "[99]\tvalidation_0-mlogloss:0.31867\n",
      "Default score: [[[-2.7803073  -2.13184744 -1.15296644 -2.22636394 -3.51576022\n",
      "   -3.30605356 -3.51642233 -3.95028983 -3.97217345 -2.77523259\n",
      "   -3.44650622 -3.09497035]]]\n",
      "Accuracy is: 0.8938411461670553\n",
      "F1 is: 0.8978777706194321\n",
      "None\n",
      "-----------------------FOLD 9---------------------\n"
     ]
    },
    {
     "name": "stderr",
     "output_type": "stream",
     "text": [
      "/home/dnlab/anaconda3/lib/python3.9/site-packages/xgboost/sklearn.py:835: UserWarning: `early_stopping_rounds` in `fit` method is deprecated for better compatibility with scikit-learn, use `early_stopping_rounds` in constructor or`set_params` instead.\n",
      "  warnings.warn(\n"
     ]
    },
    {
     "name": "stdout",
     "output_type": "stream",
     "text": [
      "[15:38:32] WARNING: ../src/learner.cc:767: \n",
      "Parameters: { \"verbose\" } are not used.\n",
      "\n",
      "[0]\tvalidation_0-mlogloss:2.16174\n",
      "[99]\tvalidation_0-mlogloss:0.31737\n",
      "Default score: [[[-2.78031585 -2.13185812 -1.15298353 -2.22639811 -3.51576663\n",
      "   -3.30606851 -3.51643514 -3.95027915 -3.97213928 -2.77523793\n",
      "   -3.44650836 -3.09497569]]]\n",
      "Accuracy is: 0.8948150806058898\n",
      "F1 is: 0.8986531903077893\n",
      "None\n",
      "-----------------------FOLD 10---------------------\n",
      "---------------CROSS VALIDATION COMPLETE\n",
      "----------------TEST EVALUATION------------------\n"
     ]
    },
    {
     "ename": "ValueError",
     "evalue": "Length of values (92) does not match length of index (29)",
     "output_type": "error",
     "traceback": [
      "\u001b[0;31m---------------------------------------------------------------------------\u001b[0m",
      "\u001b[0;31mValueError\u001b[0m                                Traceback (most recent call last)",
      "\u001b[0;32m/tmp/ipykernel_4588/4232921587.py\u001b[0m in \u001b[0;36m<module>\u001b[0;34m\u001b[0m\n\u001b[1;32m      1\u001b[0m \u001b[0;31m#To train model and make prediction\u001b[0m\u001b[0;34m\u001b[0m\u001b[0;34m\u001b[0m\u001b[0m\n\u001b[1;32m      2\u001b[0m \u001b[0mxgboost\u001b[0m \u001b[0;34m=\u001b[0m \u001b[0mModel\u001b[0m\u001b[0;34m(\u001b[0m\u001b[0mtrain\u001b[0m\u001b[0;34m,\u001b[0m \u001b[0mtest\u001b[0m\u001b[0;34m)\u001b[0m\u001b[0;34m\u001b[0m\u001b[0;34m\u001b[0m\u001b[0m\n\u001b[0;32m----> 3\u001b[0;31m \u001b[0mprediction\u001b[0m\u001b[0;34m,\u001b[0m \u001b[0mmodel\u001b[0m\u001b[0;34m,\u001b[0m \u001b[0mredundant\u001b[0m \u001b[0;34m=\u001b[0m \u001b[0mxgboost\u001b[0m\u001b[0;34m(\u001b[0m\u001b[0;34m)\u001b[0m\u001b[0;34m\u001b[0m\u001b[0;34m\u001b[0m\u001b[0m\n\u001b[0m",
      "\u001b[0;32m/tmp/ipykernel_4588/1631828475.py\u001b[0m in \u001b[0;36m__call__\u001b[0;34m(self, plot)\u001b[0m\n\u001b[1;32m     17\u001b[0m     \u001b[0;32mdef\u001b[0m \u001b[0m__call__\u001b[0m\u001b[0;34m(\u001b[0m\u001b[0mself\u001b[0m\u001b[0;34m,\u001b[0m \u001b[0mplot\u001b[0m \u001b[0;34m=\u001b[0m \u001b[0;32mTrue\u001b[0m\u001b[0;34m)\u001b[0m\u001b[0;34m:\u001b[0m\u001b[0;34m\u001b[0m\u001b[0;34m\u001b[0m\u001b[0m\n\u001b[1;32m     18\u001b[0m \u001b[0;34m\u001b[0m\u001b[0m\n\u001b[0;32m---> 19\u001b[0;31m       \u001b[0;32mreturn\u001b[0m \u001b[0mself\u001b[0m\u001b[0;34m.\u001b[0m\u001b[0mfit\u001b[0m\u001b[0;34m(\u001b[0m\u001b[0mplot\u001b[0m\u001b[0;34m)\u001b[0m\u001b[0;34m\u001b[0m\u001b[0;34m\u001b[0m\u001b[0m\n\u001b[0m\u001b[1;32m     20\u001b[0m \u001b[0;34m\u001b[0m\u001b[0m\n\u001b[1;32m     21\u001b[0m     \u001b[0;32mdef\u001b[0m \u001b[0mpreprocess\u001b[0m\u001b[0;34m(\u001b[0m\u001b[0mself\u001b[0m\u001b[0;34m,\u001b[0m \u001b[0mtrain\u001b[0m\u001b[0;34m,\u001b[0m \u001b[0mtest\u001b[0m\u001b[0;34m)\u001b[0m\u001b[0;34m:\u001b[0m\u001b[0;34m\u001b[0m\u001b[0;34m\u001b[0m\u001b[0m\n",
      "\u001b[0;32m/tmp/ipykernel_4588/1631828475.py\u001b[0m in \u001b[0;36mfit\u001b[0;34m(self, plot)\u001b[0m\n\u001b[1;32m    169\u001b[0m       \u001b[0;32mif\u001b[0m \u001b[0mplot\u001b[0m\u001b[0;34m:\u001b[0m\u001b[0;34m\u001b[0m\u001b[0;34m\u001b[0m\u001b[0m\n\u001b[1;32m    170\u001b[0m         \u001b[0;31m#  feature_names = pd.DataFrame(traindata1).columns\u001b[0m\u001b[0;34m\u001b[0m\u001b[0;34m\u001b[0m\u001b[0m\n\u001b[0;32m--> 171\u001b[0;31m          \u001b[0mself\u001b[0m\u001b[0;34m.\u001b[0m\u001b[0mplot_feat_imp\u001b[0m\u001b[0;34m(\u001b[0m\u001b[0mmodel\u001b[0m\u001b[0;34m,\u001b[0m \u001b[0mfeature_names\u001b[0m\u001b[0;34m)\u001b[0m\u001b[0;34m\u001b[0m\u001b[0;34m\u001b[0m\u001b[0m\n\u001b[0m\u001b[1;32m    172\u001b[0m \u001b[0;34m\u001b[0m\u001b[0m\n\u001b[1;32m    173\u001b[0m       \u001b[0;31m# pickle.dump(model, open('xgboost_model.pkl', 'wb'))\u001b[0m\u001b[0;34m\u001b[0m\u001b[0;34m\u001b[0m\u001b[0m\n",
      "\u001b[0;32m/tmp/ipykernel_4588/1631828475.py\u001b[0m in \u001b[0;36mplot_feat_imp\u001b[0;34m(self, model, feature_names)\u001b[0m\n\u001b[1;32m    179\u001b[0m \u001b[0;34m\u001b[0m\u001b[0m\n\u001b[1;32m    180\u001b[0m     \u001b[0;32mdef\u001b[0m \u001b[0mplot_feat_imp\u001b[0m\u001b[0;34m(\u001b[0m\u001b[0mself\u001b[0m\u001b[0;34m,\u001b[0m \u001b[0mmodel\u001b[0m\u001b[0;34m,\u001b[0m \u001b[0mfeature_names\u001b[0m\u001b[0;34m)\u001b[0m\u001b[0;34m:\u001b[0m\u001b[0;34m\u001b[0m\u001b[0;34m\u001b[0m\u001b[0m\n\u001b[0;32m--> 181\u001b[0;31m         \u001b[0mfeat_imp\u001b[0m \u001b[0;34m=\u001b[0m \u001b[0mpd\u001b[0m\u001b[0;34m.\u001b[0m\u001b[0mSeries\u001b[0m\u001b[0;34m(\u001b[0m\u001b[0mmodel\u001b[0m\u001b[0;34m.\u001b[0m\u001b[0mfeature_importances_\u001b[0m\u001b[0;34m,\u001b[0m \u001b[0mindex\u001b[0m\u001b[0;34m=\u001b[0m\u001b[0mfeature_names\u001b[0m\u001b[0;34m)\u001b[0m\u001b[0;34m.\u001b[0m\u001b[0msort_values\u001b[0m\u001b[0;34m(\u001b[0m\u001b[0mascending\u001b[0m\u001b[0;34m=\u001b[0m\u001b[0;32mFalse\u001b[0m\u001b[0;34m)\u001b[0m\u001b[0;34m\u001b[0m\u001b[0;34m\u001b[0m\u001b[0m\n\u001b[0m\u001b[1;32m    182\u001b[0m         \u001b[0mtop_features\u001b[0m \u001b[0;34m=\u001b[0m \u001b[0mfeat_imp\u001b[0m\u001b[0;34m.\u001b[0m\u001b[0mhead\u001b[0m\u001b[0;34m(\u001b[0m\u001b[0;36m10\u001b[0m\u001b[0;34m)\u001b[0m\u001b[0;34m\u001b[0m\u001b[0;34m\u001b[0m\u001b[0m\n\u001b[1;32m    183\u001b[0m \u001b[0;34m\u001b[0m\u001b[0m\n",
      "\u001b[0;32m~/anaconda3/lib/python3.9/site-packages/pandas/core/series.py\u001b[0m in \u001b[0;36m__init__\u001b[0;34m(self, data, index, dtype, name, copy, fastpath)\u001b[0m\n\u001b[1;32m    440\u001b[0m                 \u001b[0mindex\u001b[0m \u001b[0;34m=\u001b[0m \u001b[0mdefault_index\u001b[0m\u001b[0;34m(\u001b[0m\u001b[0mlen\u001b[0m\u001b[0;34m(\u001b[0m\u001b[0mdata\u001b[0m\u001b[0;34m)\u001b[0m\u001b[0;34m)\u001b[0m\u001b[0;34m\u001b[0m\u001b[0;34m\u001b[0m\u001b[0m\n\u001b[1;32m    441\u001b[0m             \u001b[0;32melif\u001b[0m \u001b[0mis_list_like\u001b[0m\u001b[0;34m(\u001b[0m\u001b[0mdata\u001b[0m\u001b[0;34m)\u001b[0m\u001b[0;34m:\u001b[0m\u001b[0;34m\u001b[0m\u001b[0;34m\u001b[0m\u001b[0m\n\u001b[0;32m--> 442\u001b[0;31m                 \u001b[0mcom\u001b[0m\u001b[0;34m.\u001b[0m\u001b[0mrequire_length_match\u001b[0m\u001b[0;34m(\u001b[0m\u001b[0mdata\u001b[0m\u001b[0;34m,\u001b[0m \u001b[0mindex\u001b[0m\u001b[0;34m)\u001b[0m\u001b[0;34m\u001b[0m\u001b[0;34m\u001b[0m\u001b[0m\n\u001b[0m\u001b[1;32m    443\u001b[0m \u001b[0;34m\u001b[0m\u001b[0m\n\u001b[1;32m    444\u001b[0m             \u001b[0;31m# create/copy the manager\u001b[0m\u001b[0;34m\u001b[0m\u001b[0;34m\u001b[0m\u001b[0m\n",
      "\u001b[0;32m~/anaconda3/lib/python3.9/site-packages/pandas/core/common.py\u001b[0m in \u001b[0;36mrequire_length_match\u001b[0;34m(data, index)\u001b[0m\n\u001b[1;32m    555\u001b[0m     \"\"\"\n\u001b[1;32m    556\u001b[0m     \u001b[0;32mif\u001b[0m \u001b[0mlen\u001b[0m\u001b[0;34m(\u001b[0m\u001b[0mdata\u001b[0m\u001b[0;34m)\u001b[0m \u001b[0;34m!=\u001b[0m \u001b[0mlen\u001b[0m\u001b[0;34m(\u001b[0m\u001b[0mindex\u001b[0m\u001b[0;34m)\u001b[0m\u001b[0;34m:\u001b[0m\u001b[0;34m\u001b[0m\u001b[0;34m\u001b[0m\u001b[0m\n\u001b[0;32m--> 557\u001b[0;31m         raise ValueError(\n\u001b[0m\u001b[1;32m    558\u001b[0m             \u001b[0;34m\"Length of values \"\u001b[0m\u001b[0;34m\u001b[0m\u001b[0;34m\u001b[0m\u001b[0m\n\u001b[1;32m    559\u001b[0m             \u001b[0;34mf\"({len(data)}) \"\u001b[0m\u001b[0;34m\u001b[0m\u001b[0;34m\u001b[0m\u001b[0m\n",
      "\u001b[0;31mValueError\u001b[0m: Length of values (92) does not match length of index (29)"
     ]
    }
   ],
   "source": [
    "#To train model and make prediction\n",
    "xgboost = Model(train, test)\n",
    "prediction, model, redundant = xgboost()"
   ]
  },
  {
   "cell_type": "code",
   "execution_count": 82,
   "metadata": {},
   "outputs": [
    {
     "data": {
      "text/plain": [
       "array([2, 2, 2, ..., 0, 1, 0])"
      ]
     },
     "execution_count": 82,
     "metadata": {},
     "output_type": "execute_result"
    }
   ],
   "source": [
    "# Prediction of the model above\n",
    "prediction"
   ]
  },
  {
   "cell_type": "code",
   "execution_count": 83,
   "metadata": {},
   "outputs": [],
   "source": [
    "lithology_numbers = {30000: 0,\n",
    "                65030: 1,\n",
    "                65000: 2,\n",
    "                80000: 3,\n",
    "                74000: 4,\n",
    "                70000: 5,\n",
    "                70032: 6,\n",
    "                88000: 7,\n",
    "                86000: 8,\n",
    "                99000: 9,\n",
    "                90000: 10,\n",
    "                93000: 11}\n",
    "\n",
    "\n",
    "category_to_lithology = {y:x for x,y in lithology_numbers.items()}\n",
    "test_prediction = np.vectorize(category_to_lithology.get)(prediction)\n",
    "np.savetxt(PWD + 'saved_test_file.csv', test_prediction, header='lithology', fmt='%i')"
   ]
  },
  {
   "cell_type": "code",
   "execution_count": 84,
   "metadata": {},
   "outputs": [
    {
     "data": {
      "text/plain": [
       "65000    96901\n",
       "30000    23744\n",
       "65030     9273\n",
       "70000     4992\n",
       "99000      976\n",
       "80000      494\n",
       "90000      391\n",
       "86000       15\n",
       "Name: # lithology, dtype: int64"
      ]
     },
     "execution_count": 84,
     "metadata": {},
     "output_type": "execute_result"
    }
   ],
   "source": [
    "pred_df = pd.read_csv(f'{PWD}saved_test_file.csv')\n",
    "pred_df['# lithology'].value_counts()"
   ]
  },
  {
   "cell_type": "code",
   "execution_count": 85,
   "metadata": {},
   "outputs": [
    {
     "name": "stdout",
     "output_type": "stream",
     "text": [
      "<class 'pandas.core.frame.DataFrame'>\n",
      "RangeIndex: 122397 entries, 0 to 122396\n",
      "Data columns (total 29 columns):\n",
      " #   Column                             Non-Null Count   Dtype  \n",
      "---  ------                             --------------   -----  \n",
      " 0   WELL                               122397 non-null  object \n",
      " 1   DEPTH_MD                           122397 non-null  float64\n",
      " 2   X_LOC                              122386 non-null  float64\n",
      " 3   Y_LOC                              122386 non-null  float64\n",
      " 4   Z_LOC                              122386 non-null  float64\n",
      " 5   GROUP                              122397 non-null  object \n",
      " 6   FORMATION                          114248 non-null  object \n",
      " 7   CALI                               118954 non-null  float64\n",
      " 8   RSHA                               25683 non-null   float64\n",
      " 9   RMED                               112580 non-null  float64\n",
      " 10  RDEP                               122386 non-null  float64\n",
      " 11  RHOB                               112869 non-null  float64\n",
      " 12  GR                                 122397 non-null  float64\n",
      " 13  SGR                                1139 non-null    float64\n",
      " 14  NPHI                               96560 non-null   float64\n",
      " 15  PEF                                100439 non-null  float64\n",
      " 16  DTC                                118291 non-null  float64\n",
      " 17  SP                                 46725 non-null   float64\n",
      " 18  BS                                 74489 non-null   float64\n",
      " 19  ROP                                91150 non-null   float64\n",
      " 20  DTS                                72871 non-null   float64\n",
      " 21  DCAL                               43104 non-null   float64\n",
      " 22  DRHO                               112267 non-null  float64\n",
      " 23  MUDWEIGHT                          0 non-null       float64\n",
      " 24  RMIC                               15181 non-null   float64\n",
      " 25  ROPA                               64221 non-null   float64\n",
      " 26  RXO                                8894 non-null    float64\n",
      " 27  FORCE_2020_LITHOFACIES_LITHOLOGY   122397 non-null  int64  \n",
      " 28  FORCE_2020_LITHOFACIES_CONFIDENCE  122377 non-null  float64\n",
      "dtypes: float64(25), int64(1), object(3)\n",
      "memory usage: 27.1+ MB\n"
     ]
    }
   ],
   "source": [
    "hidden_test = pd.read_csv(PWD + 'hidden_test.csv', sep=';')\n",
    "hidden_test.info()"
   ]
  },
  {
   "cell_type": "code",
   "execution_count": 86,
   "metadata": {},
   "outputs": [
    {
     "name": "stdout",
     "output_type": "stream",
     "text": [
      "shape of concatenated dataframe before dropping columns (1292908, 29)\n",
      "shape of dataframe after dropping columns (1292908, 24)\n",
      "['FORCE_2020_LITHOFACIES_CONFIDENCE', 'SGR', 'DTS', 'RXO', 'ROPA'] were dropped\n",
      "shape of dataframe after label encoding columns (1292908, 27)\n",
      "Splitting concatenated dataframe into training and test datasets...\n",
      "(1292908, 24)\n",
      "Shape of train and test datasets BEFORE augmentation ((1170511, 23), (122397, 23))\n",
      "Shape of train and test datasets AFTER augmentation ((1170511, 92), (122397, 92))\n"
     ]
    },
    {
     "name": "stderr",
     "output_type": "stream",
     "text": [
      "/home/dnlab/anaconda3/lib/python3.9/site-packages/xgboost/sklearn.py:835: UserWarning: `early_stopping_rounds` in `fit` method is deprecated for better compatibility with scikit-learn, use `early_stopping_rounds` in constructor or`set_params` instead.\n",
      "  warnings.warn(\n"
     ]
    },
    {
     "name": "stdout",
     "output_type": "stream",
     "text": [
      "[15:13:47] WARNING: ../src/learner.cc:767: \n",
      "Parameters: { \"verbose\" } are not used.\n",
      "\n",
      "[0]\tvalidation_0-mlogloss:2.16220\n",
      "[99]\tvalidation_0-mlogloss:0.31851\n",
      "Default score: [[[-2.78034335 -2.13184098 -1.15295766 -2.22636521 -3.51576436\n",
      "   -3.30605949 -3.5164318  -3.95028064 -3.97213952 -2.77527082\n",
      "   -3.44651629 -3.09497275]]]\n",
      "Accuracy is: 0.8953627447630114\n",
      "F1 is: 0.8992562322241842\n",
      "None\n",
      "-----------------------FOLD 1---------------------\n"
     ]
    },
    {
     "name": "stderr",
     "output_type": "stream",
     "text": [
      "/home/dnlab/anaconda3/lib/python3.9/site-packages/xgboost/sklearn.py:835: UserWarning: `early_stopping_rounds` in `fit` method is deprecated for better compatibility with scikit-learn, use `early_stopping_rounds` in constructor or`set_params` instead.\n",
      "  warnings.warn(\n"
     ]
    },
    {
     "name": "stdout",
     "output_type": "stream",
     "text": [
      "[15:14:18] WARNING: ../src/learner.cc:767: \n",
      "Parameters: { \"verbose\" } are not used.\n",
      "\n",
      "[0]\tvalidation_0-mlogloss:2.16177\n",
      "[99]\tvalidation_0-mlogloss:0.31807\n",
      "Default score: [[[-2.78033934 -2.13183356 -1.15294188 -2.22635646 -3.51576343\n",
      "   -3.30605676 -3.5164298  -3.95028022 -3.97214035 -2.77526676\n",
      "   -3.44651156 -3.09499919]]]\n",
      "Accuracy is: 0.8952166149797951\n",
      "F1 is: 0.8990638119372412\n",
      "None\n",
      "-----------------------FOLD 2---------------------\n"
     ]
    },
    {
     "name": "stderr",
     "output_type": "stream",
     "text": [
      "/home/dnlab/anaconda3/lib/python3.9/site-packages/xgboost/sklearn.py:835: UserWarning: `early_stopping_rounds` in `fit` method is deprecated for better compatibility with scikit-learn, use `early_stopping_rounds` in constructor or`set_params` instead.\n",
      "  warnings.warn(\n"
     ]
    },
    {
     "name": "stdout",
     "output_type": "stream",
     "text": [
      "[15:14:50] WARNING: ../src/learner.cc:767: \n",
      "Parameters: { \"verbose\" } are not used.\n",
      "\n",
      "[0]\tvalidation_0-mlogloss:2.16224\n",
      "[99]\tvalidation_0-mlogloss:0.32036\n",
      "Default score: [[[-2.7803372  -2.13183142 -1.15294402 -2.22635432 -3.51578799\n",
      "   -3.30604608 -3.51640524 -3.95028236 -3.97214462 -2.77526783\n",
      "   -3.44651156 -3.09500026]]]\n",
      "Accuracy is: 0.8934652416468035\n",
      "F1 is: 0.8974382521320144\n",
      "None\n",
      "-----------------------FOLD 3---------------------\n"
     ]
    },
    {
     "name": "stderr",
     "output_type": "stream",
     "text": [
      "/home/dnlab/anaconda3/lib/python3.9/site-packages/xgboost/sklearn.py:835: UserWarning: `early_stopping_rounds` in `fit` method is deprecated for better compatibility with scikit-learn, use `early_stopping_rounds` in constructor or`set_params` instead.\n",
      "  warnings.warn(\n"
     ]
    },
    {
     "name": "stdout",
     "output_type": "stream",
     "text": [
      "[15:15:20] WARNING: ../src/learner.cc:767: \n",
      "Parameters: { \"verbose\" } are not used.\n",
      "\n",
      "[0]\tvalidation_0-mlogloss:2.16190\n",
      "[99]\tvalidation_0-mlogloss:0.31711\n",
      "Default score: [[[-2.7803073  -2.13182822 -1.15297392 -2.22636287 -3.51579013\n",
      "   -3.30604608 -3.51640311 -3.95028236 -3.97214462 -2.7752657\n",
      "   -3.4465169  -3.09500239]]]\n",
      "Accuracy is: 0.8944477193701891\n",
      "F1 is: 0.8982818054336084\n",
      "None\n",
      "-----------------------FOLD 4---------------------\n"
     ]
    },
    {
     "name": "stderr",
     "output_type": "stream",
     "text": [
      "/home/dnlab/anaconda3/lib/python3.9/site-packages/xgboost/sklearn.py:835: UserWarning: `early_stopping_rounds` in `fit` method is deprecated for better compatibility with scikit-learn, use `early_stopping_rounds` in constructor or`set_params` instead.\n",
      "  warnings.warn(\n"
     ]
    },
    {
     "name": "stdout",
     "output_type": "stream",
     "text": [
      "[15:15:51] WARNING: ../src/learner.cc:767: \n",
      "Parameters: { \"verbose\" } are not used.\n",
      "\n",
      "[0]\tvalidation_0-mlogloss:2.16239\n",
      "[99]\tvalidation_0-mlogloss:0.31645\n",
      "Default score: [[[-2.78030517 -2.13182822 -1.15296965 -2.22635005 -3.51576236\n",
      "   -3.30603647 -3.51639563 -3.9502909  -3.97217239 -2.77525715\n",
      "   -3.4465169  -3.09500026]]]\n",
      "Accuracy is: 0.8956266926382517\n",
      "F1 is: 0.8995816473977067\n",
      "None\n",
      "-----------------------FOLD 5---------------------\n"
     ]
    },
    {
     "name": "stderr",
     "output_type": "stream",
     "text": [
      "/home/dnlab/anaconda3/lib/python3.9/site-packages/xgboost/sklearn.py:835: UserWarning: `early_stopping_rounds` in `fit` method is deprecated for better compatibility with scikit-learn, use `early_stopping_rounds` in constructor or`set_params` instead.\n",
      "  warnings.warn(\n"
     ]
    },
    {
     "name": "stdout",
     "output_type": "stream",
     "text": [
      "[15:16:22] WARNING: ../src/learner.cc:767: \n",
      "Parameters: { \"verbose\" } are not used.\n",
      "\n",
      "[0]\tvalidation_0-mlogloss:2.16151\n",
      "[99]\tvalidation_0-mlogloss:0.31727\n",
      "Default score: [[[-2.78031371 -2.13185492 -1.15297499 -2.22637034 -3.51576129\n",
      "   -3.30605676 -3.51642446 -3.95025566 -3.97216384 -2.77523686\n",
      "   -3.44650409 -3.09500453]]]\n",
      "Accuracy is: 0.8950115761505668\n",
      "F1 is: 0.8989726293192238\n",
      "None\n",
      "-----------------------FOLD 6---------------------\n"
     ]
    },
    {
     "name": "stderr",
     "output_type": "stream",
     "text": [
      "/home/dnlab/anaconda3/lib/python3.9/site-packages/xgboost/sklearn.py:835: UserWarning: `early_stopping_rounds` in `fit` method is deprecated for better compatibility with scikit-learn, use `early_stopping_rounds` in constructor or`set_params` instead.\n",
      "  warnings.warn(\n"
     ]
    },
    {
     "name": "stdout",
     "output_type": "stream",
     "text": [
      "[15:16:54] WARNING: ../src/learner.cc:767: \n",
      "Parameters: { \"verbose\" } are not used.\n",
      "\n",
      "[0]\tvalidation_0-mlogloss:2.16201\n",
      "[99]\tvalidation_0-mlogloss:0.32054\n",
      "Default score: [[[-2.78031371 -2.13185492 -1.15297499 -2.22637034 -3.51576129\n",
      "   -3.30605676 -3.51642446 -3.95025566 -3.97216384 -2.77523686\n",
      "   -3.44650409 -3.09500453]]]\n",
      "Accuracy is: 0.8927390624599534\n",
      "F1 is: 0.8967064590232471\n",
      "None\n",
      "-----------------------FOLD 7---------------------\n"
     ]
    },
    {
     "name": "stderr",
     "output_type": "stream",
     "text": [
      "/home/dnlab/anaconda3/lib/python3.9/site-packages/xgboost/sklearn.py:835: UserWarning: `early_stopping_rounds` in `fit` method is deprecated for better compatibility with scikit-learn, use `early_stopping_rounds` in constructor or`set_params` instead.\n",
      "  warnings.warn(\n"
     ]
    },
    {
     "name": "stdout",
     "output_type": "stream",
     "text": [
      "[15:17:25] WARNING: ../src/learner.cc:767: \n",
      "Parameters: { \"verbose\" } are not used.\n",
      "\n",
      "[0]\tvalidation_0-mlogloss:2.16215\n",
      "[99]\tvalidation_0-mlogloss:0.31692\n",
      "Default score: [[[-2.78031371 -2.13185492 -1.15297499 -2.22637034 -3.51576129\n",
      "   -3.30605676 -3.51642446 -3.95025566 -3.97216384 -2.77523686\n",
      "   -3.44650409 -3.09500453]]]\n",
      "Accuracy is: 0.895592519500047\n",
      "F1 is: 0.8994278139987886\n",
      "None\n",
      "-----------------------FOLD 8---------------------\n"
     ]
    },
    {
     "name": "stderr",
     "output_type": "stream",
     "text": [
      "/home/dnlab/anaconda3/lib/python3.9/site-packages/xgboost/sklearn.py:835: UserWarning: `early_stopping_rounds` in `fit` method is deprecated for better compatibility with scikit-learn, use `early_stopping_rounds` in constructor or`set_params` instead.\n",
      "  warnings.warn(\n"
     ]
    },
    {
     "name": "stdout",
     "output_type": "stream",
     "text": [
      "[15:17:56] WARNING: ../src/learner.cc:767: \n",
      "Parameters: { \"verbose\" } are not used.\n",
      "\n",
      "[0]\tvalidation_0-mlogloss:2.16161\n",
      "[99]\tvalidation_0-mlogloss:0.31779\n",
      "Default score: [[[-2.7803073  -2.13184744 -1.15296644 -2.22636394 -3.51576022\n",
      "   -3.30605356 -3.51642233 -3.95028983 -3.97217345 -2.77523259\n",
      "   -3.44650622 -3.09497035]]]\n",
      "Accuracy is: 0.8940205551426301\n",
      "F1 is: 0.8980431040389761\n",
      "None\n",
      "-----------------------FOLD 9---------------------\n"
     ]
    },
    {
     "name": "stderr",
     "output_type": "stream",
     "text": [
      "/home/dnlab/anaconda3/lib/python3.9/site-packages/xgboost/sklearn.py:835: UserWarning: `early_stopping_rounds` in `fit` method is deprecated for better compatibility with scikit-learn, use `early_stopping_rounds` in constructor or`set_params` instead.\n",
      "  warnings.warn(\n"
     ]
    },
    {
     "name": "stdout",
     "output_type": "stream",
     "text": [
      "[15:18:28] WARNING: ../src/learner.cc:767: \n",
      "Parameters: { \"verbose\" } are not used.\n",
      "\n",
      "[0]\tvalidation_0-mlogloss:2.16278\n",
      "[99]\tvalidation_0-mlogloss:0.31984\n",
      "Default score: [[[-2.78031585 -2.13185812 -1.15298353 -2.22639811 -3.51576663\n",
      "   -3.30606851 -3.51643514 -3.95027915 -3.97213928 -2.77523793\n",
      "   -3.44650836 -3.09497569]]]\n",
      "Accuracy is: 0.8943195701019214\n",
      "F1 is: 0.898230970037371\n",
      "None\n",
      "-----------------------FOLD 10---------------------\n",
      "---------------CROSS VALIDATION COMPLETE\n",
      "----------------TEST EVALUATION------------------\n"
     ]
    },
    {
     "data": {
      "image/png": "[encoded data removed]",
      "text/plain": [
       "<Figure size 1200x800 with 1 Axes>"
      ]
     },
     "metadata": {},
     "output_type": "display_data"
    },
    {
     "name": "stdout",
     "output_type": "stream",
     "text": [
      "The model is saved\n"
     ]
    }
   ],
   "source": [
    "xgboost2 = Model(train, hidden_test)\n",
    "prediction2, model2, _ = xgboost2()"
   ]
  },
  {
   "cell_type": "code",
   "execution_count": 87,
   "metadata": {},
   "outputs": [
    {
     "data": {
      "text/plain": [
       "array([2, 2, 2, ..., 2, 2, 2])"
      ]
     },
     "execution_count": 87,
     "metadata": {},
     "output_type": "execute_result"
    }
   ],
   "source": [
    "prediction2"
   ]
  },
  {
   "cell_type": "code",
   "execution_count": 88,
   "metadata": {},
   "outputs": [],
   "source": [
    "category_to_lithology2 = {y:x for x,y in lithology_numbers.items()}\n",
    "test_prediction2 = np.vectorize(category_to_lithology2.get)(prediction2)\n",
    "np.savetxt(PWD + 'saved_hidden_test_file.csv', test_prediction2, header='lithology', fmt='%i')"
   ]
  },
  {
   "cell_type": "code",
   "execution_count": 89,
   "metadata": {},
   "outputs": [
    {
     "data": {
      "text/plain": [
       "65000    79602\n",
       "30000    14367\n",
       "70000     8756\n",
       "88000     6538\n",
       "65030     6220\n",
       "80000     3857\n",
       "70032     1127\n",
       "99000     1123\n",
       "86000      625\n",
       "90000      170\n",
       "74000       12\n",
       "Name: # lithology, dtype: int64"
      ]
     },
     "execution_count": 89,
     "metadata": {},
     "output_type": "execute_result"
    }
   ],
   "source": [
    "pred_df2 = pd.read_csv(f'{PWD}saved_hidden_test_file.csv')\n",
    "pred_df2['# lithology'].value_counts()"
   ]
  },
  {
   "cell_type": "code",
   "execution_count": 90,
   "metadata": {},
   "outputs": [
    {
     "data": {
      "text/plain": [
       "65000    71827\n",
       "30000    14045\n",
       "65030    12283\n",
       "70000     8374\n",
       "88000     6498\n",
       "80000     4396\n",
       "70032     2905\n",
       "99000      941\n",
       "86000      597\n",
       "74000      287\n",
       "90000      244\n",
       "Name: FORCE_2020_LITHOFACIES_LITHOLOGY, dtype: int64"
      ]
     },
     "execution_count": 90,
     "metadata": {},
     "output_type": "execute_result"
    }
   ],
   "source": [
    "hidden_test_labels = hidden_test['FORCE_2020_LITHOFACIES_LITHOLOGY']\n",
    "hidden_test_labels.value_counts()"
   ]
  },
  {
   "cell_type": "code",
   "execution_count": 91,
   "metadata": {},
   "outputs": [
    {
     "name": "stdout",
     "output_type": "stream",
     "text": [
      "Accuracy: 0.8064004836719855\n",
      "F1 Score: 0.7884564177017058\n"
     ]
    }
   ],
   "source": [
    "predicted_labels2 = pred_df2['# lithology']\n",
    "true_labels2 = hidden_test_labels\n",
    "\n",
    "# Calculate accuracy\n",
    "accuracy = accuracy_score(true_labels2, predicted_labels2)\n",
    "print(f\"Accuracy: {accuracy}\")\n",
    "\n",
    "# Calculate F1 score\n",
    "f1 = f1_score(true_labels2, predicted_labels2, average='weighted')\n",
    "print(f\"F1 Score: {f1}\")"
   ]
  },
  {
   "cell_type": "code",
   "execution_count": 94,
   "metadata": {},
   "outputs": [
    {
     "name": "stdout",
     "output_type": "stream",
     "text": [
      "shape of concatenated dataframe before dropping columns (1307297, 29)\n",
      "shape of dataframe after dropping columns (1307297, 24)\n",
      "['FORCE_2020_LITHOFACIES_CONFIDENCE', 'SGR', 'DTS', 'RXO', 'ROPA'] were dropped\n",
      "shape of dataframe after label encoding columns (1307297, 27)\n",
      "Splitting concatenated dataframe into training and test datasets...\n",
      "(1307297, 24)\n",
      "Shape of train and test datasets BEFORE augmentation ((1170511, 23), (136786, 23))\n",
      "Shape of train and test datasets AFTER augmentation ((1170511, 92), (136786, 92))\n"
     ]
    }
   ],
   "source": [
    "traindata1, testdata1, lithology1, lithology_numbers = xgboost.preprocess(train, test)\n"
   ]
  },
  {
   "cell_type": "code",
   "execution_count": 102,
   "metadata": {},
   "outputs": [
    {
     "name": "stdout",
     "output_type": "stream",
     "text": [
      "RangeIndex(start=0, stop=92, step=1)\n"
     ]
    }
   ],
   "source": [
    "feature_names = pd.DataFrame(traindata1).columns\n",
    "feature_names"
   ]
  },
  {
   "cell_type": "code",
   "execution_count": null,
   "metadata": {},
   "outputs": [],
   "source": []
  }
 ],
 "metadata": {
  "kernelspec": {
   "display_name": "base",
   "language": "python",
   "name": "python3"
  },
  "language_info": {
   "codemirror_mode": {
    "name": "ipython",
    "version": 3
   },
   "file_extension": ".py",
   "mimetype": "text/x-python",
   "name": "python",
   "nbconvert_exporter": "python",
   "pygments_lexer": "ipython3",
   "version": "3.9.13"
  },
  "orig_nbformat": 4
 },
 "nbformat": 4,
 "nbformat_minor": 2
}
